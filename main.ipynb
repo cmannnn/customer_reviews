{
 "cells": [
  {
   "cell_type": "markdown",
   "metadata": {},
   "source": [
    "# DTSA 5510 Final Project"
   ]
  },
  {
   "cell_type": "markdown",
   "metadata": {},
   "source": [
    "## Imports"
   ]
  },
  {
   "cell_type": "code",
   "execution_count": 4,
   "metadata": {},
   "outputs": [],
   "source": [
    "import pandas as pd\n",
    "import matplotlib.pyplot as plt\n",
    "import numpy as np"
   ]
  },
  {
   "cell_type": "markdown",
   "metadata": {},
   "source": [
    "## Data import"
   ]
  },
  {
   "cell_type": "code",
   "execution_count": 5,
   "metadata": {},
   "outputs": [],
   "source": [
    "reviews = pd.read_csv('data/reviews.csv')"
   ]
  },
  {
   "cell_type": "code",
   "execution_count": 6,
   "metadata": {},
   "outputs": [
    {
     "data": {
      "text/html": [
       "<div>\n",
       "<style scoped>\n",
       "    .dataframe tbody tr th:only-of-type {\n",
       "        vertical-align: middle;\n",
       "    }\n",
       "\n",
       "    .dataframe tbody tr th {\n",
       "        vertical-align: top;\n",
       "    }\n",
       "\n",
       "    .dataframe thead th {\n",
       "        text-align: right;\n",
       "    }\n",
       "</style>\n",
       "<table border=\"1\" class=\"dataframe\">\n",
       "  <thead>\n",
       "    <tr style=\"text-align: right;\">\n",
       "      <th></th>\n",
       "      <th>ID</th>\n",
       "      <th>REVIEW_DATE</th>\n",
       "      <th>IS_VERIFIED</th>\n",
       "      <th>RATING</th>\n",
       "      <th>REVIEW_TITLE</th>\n",
       "      <th>REVIEW_TEXT</th>\n",
       "      <th>NAME</th>\n",
       "    </tr>\n",
       "  </thead>\n",
       "  <tbody>\n",
       "    <tr>\n",
       "      <th>0</th>\n",
       "      <td>3129911</td>\n",
       "      <td>2022-08-17</td>\n",
       "      <td>True</td>\n",
       "      <td>1</td>\n",
       "      <td>This has NO flavor</td>\n",
       "      <td>This item has no flavor, several people have t...</td>\n",
       "      <td>United States</td>\n",
       "    </tr>\n",
       "    <tr>\n",
       "      <th>1</th>\n",
       "      <td>2702184</td>\n",
       "      <td>2022-06-07</td>\n",
       "      <td>True</td>\n",
       "      <td>1</td>\n",
       "      <td>Different formula</td>\n",
       "      <td>I have used this brand of sunscreen for about ...</td>\n",
       "      <td>United States</td>\n",
       "    </tr>\n",
       "    <tr>\n",
       "      <th>2</th>\n",
       "      <td>760128</td>\n",
       "      <td>2014-06-03</td>\n",
       "      <td>True</td>\n",
       "      <td>5</td>\n",
       "      <td>Vitex!!!</td>\n",
       "      <td>Have been using these for at least 20 months a...</td>\n",
       "      <td>United States</td>\n",
       "    </tr>\n",
       "    <tr>\n",
       "      <th>3</th>\n",
       "      <td>760140</td>\n",
       "      <td>2013-11-24</td>\n",
       "      <td>True</td>\n",
       "      <td>5</td>\n",
       "      <td>Stopping hair loss</td>\n",
       "      <td>Bought this to help fight hair loss along with...</td>\n",
       "      <td>United States</td>\n",
       "    </tr>\n",
       "    <tr>\n",
       "      <th>4</th>\n",
       "      <td>760132</td>\n",
       "      <td>2014-04-10</td>\n",
       "      <td>True</td>\n",
       "      <td>5</td>\n",
       "      <td>coming off of birth control</td>\n",
       "      <td>this company is one of the best most honest i'...</td>\n",
       "      <td>United States</td>\n",
       "    </tr>\n",
       "  </tbody>\n",
       "</table>\n",
       "</div>"
      ],
      "text/plain": [
       "        ID REVIEW_DATE  IS_VERIFIED  RATING                 REVIEW_TITLE  \\\n",
       "0  3129911  2022-08-17         True       1           This has NO flavor   \n",
       "1  2702184  2022-06-07         True       1            Different formula   \n",
       "2   760128  2014-06-03         True       5                     Vitex!!!   \n",
       "3   760140  2013-11-24         True       5           Stopping hair loss   \n",
       "4   760132  2014-04-10         True       5  coming off of birth control   \n",
       "\n",
       "                                         REVIEW_TEXT           NAME  \n",
       "0  This item has no flavor, several people have t...  United States  \n",
       "1  I have used this brand of sunscreen for about ...  United States  \n",
       "2  Have been using these for at least 20 months a...  United States  \n",
       "3  Bought this to help fight hair loss along with...  United States  \n",
       "4  this company is one of the best most honest i'...  United States  "
      ]
     },
     "execution_count": 6,
     "metadata": {},
     "output_type": "execute_result"
    }
   ],
   "source": [
    "reviews.head()"
   ]
  },
  {
   "cell_type": "code",
   "execution_count": 7,
   "metadata": {},
   "outputs": [
    {
     "name": "stdout",
     "output_type": "stream",
     "text": [
      "<class 'pandas.core.frame.DataFrame'>\n",
      "RangeIndex: 10000 entries, 0 to 9999\n",
      "Data columns (total 7 columns):\n",
      " #   Column        Non-Null Count  Dtype \n",
      "---  ------        --------------  ----- \n",
      " 0   ID            10000 non-null  int64 \n",
      " 1   REVIEW_DATE   10000 non-null  object\n",
      " 2   IS_VERIFIED   10000 non-null  bool  \n",
      " 3   RATING        10000 non-null  int64 \n",
      " 4   REVIEW_TITLE  9999 non-null   object\n",
      " 5   REVIEW_TEXT   10000 non-null  object\n",
      " 6   NAME          10000 non-null  object\n",
      "dtypes: bool(1), int64(2), object(4)\n",
      "memory usage: 478.6+ KB\n"
     ]
    }
   ],
   "source": [
    "reviews.info()"
   ]
  },
  {
   "cell_type": "code",
   "execution_count": 13,
   "metadata": {},
   "outputs": [
    {
     "data": {
      "text/html": [
       "<div>\n",
       "<style scoped>\n",
       "    .dataframe tbody tr th:only-of-type {\n",
       "        vertical-align: middle;\n",
       "    }\n",
       "\n",
       "    .dataframe tbody tr th {\n",
       "        vertical-align: top;\n",
       "    }\n",
       "\n",
       "    .dataframe thead th {\n",
       "        text-align: right;\n",
       "    }\n",
       "</style>\n",
       "<table border=\"1\" class=\"dataframe\">\n",
       "  <thead>\n",
       "    <tr style=\"text-align: right;\">\n",
       "      <th></th>\n",
       "      <th>ID</th>\n",
       "      <th>REVIEW_DATE</th>\n",
       "      <th>IS_VERIFIED</th>\n",
       "      <th>RATING</th>\n",
       "      <th>REVIEW_TITLE</th>\n",
       "      <th>REVIEW_TEXT</th>\n",
       "      <th>NAME</th>\n",
       "    </tr>\n",
       "  </thead>\n",
       "  <tbody>\n",
       "  </tbody>\n",
       "</table>\n",
       "</div>"
      ],
      "text/plain": [
       "Empty DataFrame\n",
       "Columns: [ID, REVIEW_DATE, IS_VERIFIED, RATING, REVIEW_TITLE, REVIEW_TEXT, NAME]\n",
       "Index: []"
      ]
     },
     "execution_count": 13,
     "metadata": {},
     "output_type": "execute_result"
    }
   ],
   "source": [
    "reviews[reviews['REVIEW_TITLE'].isnull()]"
   ]
  },
  {
   "cell_type": "code",
   "execution_count": 12,
   "metadata": {},
   "outputs": [],
   "source": [
    "reviews.dropna(subset = ['REVIEW_TITLE'], axis = 0, inplace = True)"
   ]
  },
  {
   "cell_type": "code",
   "execution_count": 14,
   "metadata": {},
   "outputs": [
    {
     "data": {
      "text/plain": [
       "ID              0\n",
       "REVIEW_DATE     0\n",
       "IS_VERIFIED     0\n",
       "RATING          0\n",
       "REVIEW_TITLE    0\n",
       "REVIEW_TEXT     0\n",
       "NAME            0\n",
       "dtype: int64"
      ]
     },
     "execution_count": 14,
     "metadata": {},
     "output_type": "execute_result"
    }
   ],
   "source": [
    "reviews.isnull().sum()"
   ]
  },
  {
   "cell_type": "code",
   "execution_count": null,
   "metadata": {},
   "outputs": [],
   "source": []
  }
 ],
 "metadata": {
  "kernelspec": {
   "display_name": ".venv",
   "language": "python",
   "name": "python3"
  },
  "language_info": {
   "codemirror_mode": {
    "name": "ipython",
    "version": 3
   },
   "file_extension": ".py",
   "mimetype": "text/x-python",
   "name": "python",
   "nbconvert_exporter": "python",
   "pygments_lexer": "ipython3",
   "version": "3.12.3"
  }
 },
 "nbformat": 4,
 "nbformat_minor": 2
}

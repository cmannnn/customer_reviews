{
 "cells": [
  {
   "cell_type": "markdown",
   "metadata": {},
   "source": [
    "# DTSA 5510 Final Project"
   ]
  },
  {
   "cell_type": "markdown",
   "metadata": {},
   "source": [
    "## Imports"
   ]
  },
  {
   "cell_type": "code",
   "execution_count": 44,
   "metadata": {},
   "outputs": [],
   "source": [
    "import pandas as pd\n",
    "import matplotlib.pyplot as plt\n",
    "import numpy as np\n",
    "import seaborn as sns\n",
    "from itertools import permutations\n",
    "\n",
    "# old imports\n",
    "from sklearn.model_selection import train_test_split, GridSearchCV, KFold, cross_val_score\n",
    "from sklearn.feature_extraction.text import TfidfVectorizer\n",
    "from sklearn.decomposition import NMF\n",
    "from sklearn.pipeline import Pipeline\n",
    "from sklearn.metrics import accuracy_score\n",
    "\n",
    "\n",
    "# latest imports\n",
    "from sklearn.feature_extraction.text import CountVectorizer\n",
    "from nltk.tokenize import RegexpTokenizer\n",
    "\n",
    "from langdetect import detect"
   ]
  },
  {
   "cell_type": "markdown",
   "metadata": {},
   "source": [
    "## Data import"
   ]
  },
  {
   "cell_type": "code",
   "execution_count": 2,
   "metadata": {},
   "outputs": [],
   "source": [
    "# data import\n",
    "reviews = pd.read_csv('data/reviews.csv')"
   ]
  },
  {
   "cell_type": "code",
   "execution_count": 3,
   "metadata": {},
   "outputs": [
    {
     "data": {
      "text/html": [
       "<div>\n",
       "<style scoped>\n",
       "    .dataframe tbody tr th:only-of-type {\n",
       "        vertical-align: middle;\n",
       "    }\n",
       "\n",
       "    .dataframe tbody tr th {\n",
       "        vertical-align: top;\n",
       "    }\n",
       "\n",
       "    .dataframe thead th {\n",
       "        text-align: right;\n",
       "    }\n",
       "</style>\n",
       "<table border=\"1\" class=\"dataframe\">\n",
       "  <thead>\n",
       "    <tr style=\"text-align: right;\">\n",
       "      <th></th>\n",
       "      <th>ID</th>\n",
       "      <th>REVIEW_DATE</th>\n",
       "      <th>IS_VERIFIED</th>\n",
       "      <th>RATING</th>\n",
       "      <th>REVIEW_TITLE</th>\n",
       "      <th>REVIEW_TEXT</th>\n",
       "      <th>NAME</th>\n",
       "    </tr>\n",
       "  </thead>\n",
       "  <tbody>\n",
       "    <tr>\n",
       "      <th>6568</th>\n",
       "      <td>9484498</td>\n",
       "      <td>2020-05-12</td>\n",
       "      <td>True</td>\n",
       "      <td>5</td>\n",
       "      <td>LOVE IT!</td>\n",
       "      <td>This works so well in my flower bed the colors...</td>\n",
       "      <td>United States</td>\n",
       "    </tr>\n",
       "    <tr>\n",
       "      <th>695</th>\n",
       "      <td>3744499</td>\n",
       "      <td>2022-09-14</td>\n",
       "      <td>True</td>\n",
       "      <td>5</td>\n",
       "      <td>It works!  Results of my latest Bone Density p...</td>\n",
       "      <td>I pinned all my hopes on this Bone Up for my o...</td>\n",
       "      <td>United States</td>\n",
       "    </tr>\n",
       "    <tr>\n",
       "      <th>7589</th>\n",
       "      <td>7009843</td>\n",
       "      <td>2018-09-21</td>\n",
       "      <td>False</td>\n",
       "      <td>5</td>\n",
       "      <td>Taste Legit; Probiotic A Big Plus</td>\n",
       "      <td>First off, I can't comment on the efficacy of ...</td>\n",
       "      <td>United States</td>\n",
       "    </tr>\n",
       "    <tr>\n",
       "      <th>4092</th>\n",
       "      <td>5706415</td>\n",
       "      <td>2021-02-24</td>\n",
       "      <td>True</td>\n",
       "      <td>5</td>\n",
       "      <td>2 pills help get through a night shift</td>\n",
       "      <td>I work overnight sometimes I dont want to drin...</td>\n",
       "      <td>United States</td>\n",
       "    </tr>\n",
       "    <tr>\n",
       "      <th>1720</th>\n",
       "      <td>78671</td>\n",
       "      <td>2018-03-07</td>\n",
       "      <td>True</td>\n",
       "      <td>1</td>\n",
       "      <td>Not a Believer</td>\n",
       "      <td>No notable change. I want to believe that supp...</td>\n",
       "      <td>United States</td>\n",
       "    </tr>\n",
       "  </tbody>\n",
       "</table>\n",
       "</div>"
      ],
      "text/plain": [
       "           ID REVIEW_DATE  IS_VERIFIED  RATING  \\\n",
       "6568  9484498  2020-05-12         True       5   \n",
       "695   3744499  2022-09-14         True       5   \n",
       "7589  7009843  2018-09-21        False       5   \n",
       "4092  5706415  2021-02-24         True       5   \n",
       "1720    78671  2018-03-07         True       1   \n",
       "\n",
       "                                           REVIEW_TITLE  \\\n",
       "6568                                           LOVE IT!   \n",
       "695   It works!  Results of my latest Bone Density p...   \n",
       "7589                  Taste Legit; Probiotic A Big Plus   \n",
       "4092             2 pills help get through a night shift   \n",
       "1720                                     Not a Believer   \n",
       "\n",
       "                                            REVIEW_TEXT           NAME  \n",
       "6568  This works so well in my flower bed the colors...  United States  \n",
       "695   I pinned all my hopes on this Bone Up for my o...  United States  \n",
       "7589  First off, I can't comment on the efficacy of ...  United States  \n",
       "4092  I work overnight sometimes I dont want to drin...  United States  \n",
       "1720  No notable change. I want to believe that supp...  United States  "
      ]
     },
     "execution_count": 3,
     "metadata": {},
     "output_type": "execute_result"
    }
   ],
   "source": [
    "# here is an initial view of a sample of rows in the dataset\n",
    "reviews.sample(5)"
   ]
  },
  {
   "cell_type": "code",
   "execution_count": 4,
   "metadata": {},
   "outputs": [
    {
     "name": "stdout",
     "output_type": "stream",
     "text": [
      "<class 'pandas.core.frame.DataFrame'>\n",
      "RangeIndex: 10000 entries, 0 to 9999\n",
      "Data columns (total 7 columns):\n",
      " #   Column        Non-Null Count  Dtype \n",
      "---  ------        --------------  ----- \n",
      " 0   ID            10000 non-null  int64 \n",
      " 1   REVIEW_DATE   10000 non-null  object\n",
      " 2   IS_VERIFIED   10000 non-null  bool  \n",
      " 3   RATING        10000 non-null  int64 \n",
      " 4   REVIEW_TITLE  9999 non-null   object\n",
      " 5   REVIEW_TEXT   10000 non-null  object\n",
      " 6   NAME          10000 non-null  object\n",
      "dtypes: bool(1), int64(2), object(4)\n",
      "memory usage: 478.6+ KB\n"
     ]
    }
   ],
   "source": [
    "reviews.info()"
   ]
  },
  {
   "cell_type": "markdown",
   "metadata": {},
   "source": [
    "### Changing NAME field to Country"
   ]
  },
  {
   "cell_type": "code",
   "execution_count": 5,
   "metadata": {},
   "outputs": [],
   "source": [
    "reviews.rename(columns={'NAME': 'COUNTRY'}, inplace = True)"
   ]
  },
  {
   "cell_type": "markdown",
   "metadata": {},
   "source": [
    "### Dropping the only row with a null value"
   ]
  },
  {
   "cell_type": "code",
   "execution_count": 6,
   "metadata": {},
   "outputs": [
    {
     "data": {
      "text/html": [
       "<div>\n",
       "<style scoped>\n",
       "    .dataframe tbody tr th:only-of-type {\n",
       "        vertical-align: middle;\n",
       "    }\n",
       "\n",
       "    .dataframe tbody tr th {\n",
       "        vertical-align: top;\n",
       "    }\n",
       "\n",
       "    .dataframe thead th {\n",
       "        text-align: right;\n",
       "    }\n",
       "</style>\n",
       "<table border=\"1\" class=\"dataframe\">\n",
       "  <thead>\n",
       "    <tr style=\"text-align: right;\">\n",
       "      <th></th>\n",
       "      <th>ID</th>\n",
       "      <th>REVIEW_DATE</th>\n",
       "      <th>IS_VERIFIED</th>\n",
       "      <th>RATING</th>\n",
       "      <th>REVIEW_TITLE</th>\n",
       "      <th>REVIEW_TEXT</th>\n",
       "      <th>COUNTRY</th>\n",
       "    </tr>\n",
       "  </thead>\n",
       "  <tbody>\n",
       "    <tr>\n",
       "      <th>2517</th>\n",
       "      <td>3566087</td>\n",
       "      <td>2018-08-09</td>\n",
       "      <td>True</td>\n",
       "      <td>5</td>\n",
       "      <td>NaN</td>\n",
       "      <td>Excellent product that is really helping my dog</td>\n",
       "      <td>United States</td>\n",
       "    </tr>\n",
       "  </tbody>\n",
       "</table>\n",
       "</div>"
      ],
      "text/plain": [
       "           ID REVIEW_DATE  IS_VERIFIED  RATING REVIEW_TITLE  \\\n",
       "2517  3566087  2018-08-09         True       5          NaN   \n",
       "\n",
       "                                          REVIEW_TEXT        COUNTRY  \n",
       "2517  Excellent product that is really helping my dog  United States  "
      ]
     },
     "execution_count": 6,
     "metadata": {},
     "output_type": "execute_result"
    }
   ],
   "source": [
    "#\n",
    "reviews[reviews['REVIEW_TITLE'].isnull()]"
   ]
  },
  {
   "cell_type": "code",
   "execution_count": 7,
   "metadata": {},
   "outputs": [],
   "source": [
    "reviews.dropna(subset = ['REVIEW_TITLE'], axis = 0, inplace = True)"
   ]
  },
  {
   "cell_type": "code",
   "execution_count": 8,
   "metadata": {},
   "outputs": [
    {
     "data": {
      "text/plain": [
       "ID              0\n",
       "REVIEW_DATE     0\n",
       "IS_VERIFIED     0\n",
       "RATING          0\n",
       "REVIEW_TITLE    0\n",
       "REVIEW_TEXT     0\n",
       "COUNTRY         0\n",
       "dtype: int64"
      ]
     },
     "execution_count": 8,
     "metadata": {},
     "output_type": "execute_result"
    }
   ],
   "source": [
    "reviews.isnull().sum()"
   ]
  },
  {
   "cell_type": "code",
   "execution_count": 9,
   "metadata": {},
   "outputs": [
    {
     "name": "stdout",
     "output_type": "stream",
     "text": [
      "<class 'pandas.core.frame.DataFrame'>\n",
      "Index: 9999 entries, 0 to 9999\n",
      "Data columns (total 7 columns):\n",
      " #   Column        Non-Null Count  Dtype \n",
      "---  ------        --------------  ----- \n",
      " 0   ID            9999 non-null   int64 \n",
      " 1   REVIEW_DATE   9999 non-null   object\n",
      " 2   IS_VERIFIED   9999 non-null   bool  \n",
      " 3   RATING        9999 non-null   int64 \n",
      " 4   REVIEW_TITLE  9999 non-null   object\n",
      " 5   REVIEW_TEXT   9999 non-null   object\n",
      " 6   COUNTRY       9999 non-null   object\n",
      "dtypes: bool(1), int64(2), object(4)\n",
      "memory usage: 556.6+ KB\n"
     ]
    }
   ],
   "source": [
    "reviews.info()"
   ]
  },
  {
   "cell_type": "markdown",
   "metadata": {},
   "source": [
    "### Converting REVIEW_DATE field to pandas datetime"
   ]
  },
  {
   "cell_type": "code",
   "execution_count": 10,
   "metadata": {},
   "outputs": [
    {
     "data": {
      "text/html": [
       "<div>\n",
       "<style scoped>\n",
       "    .dataframe tbody tr th:only-of-type {\n",
       "        vertical-align: middle;\n",
       "    }\n",
       "\n",
       "    .dataframe tbody tr th {\n",
       "        vertical-align: top;\n",
       "    }\n",
       "\n",
       "    .dataframe thead th {\n",
       "        text-align: right;\n",
       "    }\n",
       "</style>\n",
       "<table border=\"1\" class=\"dataframe\">\n",
       "  <thead>\n",
       "    <tr style=\"text-align: right;\">\n",
       "      <th></th>\n",
       "      <th>ID</th>\n",
       "      <th>REVIEW_DATE</th>\n",
       "      <th>IS_VERIFIED</th>\n",
       "      <th>RATING</th>\n",
       "      <th>REVIEW_TITLE</th>\n",
       "      <th>REVIEW_TEXT</th>\n",
       "      <th>COUNTRY</th>\n",
       "    </tr>\n",
       "  </thead>\n",
       "  <tbody>\n",
       "    <tr>\n",
       "      <th>0</th>\n",
       "      <td>3129911</td>\n",
       "      <td>2022-08-17</td>\n",
       "      <td>True</td>\n",
       "      <td>1</td>\n",
       "      <td>This has NO flavor</td>\n",
       "      <td>This item has no flavor, several people have t...</td>\n",
       "      <td>United States</td>\n",
       "    </tr>\n",
       "    <tr>\n",
       "      <th>1</th>\n",
       "      <td>2702184</td>\n",
       "      <td>2022-06-07</td>\n",
       "      <td>True</td>\n",
       "      <td>1</td>\n",
       "      <td>Different formula</td>\n",
       "      <td>I have used this brand of sunscreen for about ...</td>\n",
       "      <td>United States</td>\n",
       "    </tr>\n",
       "    <tr>\n",
       "      <th>2</th>\n",
       "      <td>760128</td>\n",
       "      <td>2014-06-03</td>\n",
       "      <td>True</td>\n",
       "      <td>5</td>\n",
       "      <td>Vitex!!!</td>\n",
       "      <td>Have been using these for at least 20 months a...</td>\n",
       "      <td>United States</td>\n",
       "    </tr>\n",
       "    <tr>\n",
       "      <th>3</th>\n",
       "      <td>760140</td>\n",
       "      <td>2013-11-24</td>\n",
       "      <td>True</td>\n",
       "      <td>5</td>\n",
       "      <td>Stopping hair loss</td>\n",
       "      <td>Bought this to help fight hair loss along with...</td>\n",
       "      <td>United States</td>\n",
       "    </tr>\n",
       "    <tr>\n",
       "      <th>4</th>\n",
       "      <td>760132</td>\n",
       "      <td>2014-04-10</td>\n",
       "      <td>True</td>\n",
       "      <td>5</td>\n",
       "      <td>coming off of birth control</td>\n",
       "      <td>this company is one of the best most honest i'...</td>\n",
       "      <td>United States</td>\n",
       "    </tr>\n",
       "  </tbody>\n",
       "</table>\n",
       "</div>"
      ],
      "text/plain": [
       "        ID REVIEW_DATE  IS_VERIFIED  RATING                 REVIEW_TITLE  \\\n",
       "0  3129911  2022-08-17         True       1           This has NO flavor   \n",
       "1  2702184  2022-06-07         True       1            Different formula   \n",
       "2   760128  2014-06-03         True       5                     Vitex!!!   \n",
       "3   760140  2013-11-24         True       5           Stopping hair loss   \n",
       "4   760132  2014-04-10         True       5  coming off of birth control   \n",
       "\n",
       "                                         REVIEW_TEXT        COUNTRY  \n",
       "0  This item has no flavor, several people have t...  United States  \n",
       "1  I have used this brand of sunscreen for about ...  United States  \n",
       "2  Have been using these for at least 20 months a...  United States  \n",
       "3  Bought this to help fight hair loss along with...  United States  \n",
       "4  this company is one of the best most honest i'...  United States  "
      ]
     },
     "execution_count": 10,
     "metadata": {},
     "output_type": "execute_result"
    }
   ],
   "source": [
    "reviews.head()"
   ]
  },
  {
   "cell_type": "code",
   "execution_count": 11,
   "metadata": {},
   "outputs": [],
   "source": [
    "reviews['REVIEW_DATE'] = pd.to_datetime(reviews['REVIEW_DATE'])"
   ]
  },
  {
   "cell_type": "markdown",
   "metadata": {},
   "source": [
    "### Converting ID field to type object"
   ]
  },
  {
   "cell_type": "code",
   "execution_count": 12,
   "metadata": {},
   "outputs": [],
   "source": [
    "reviews['ID'] = reviews['ID'].astype(object)"
   ]
  },
  {
   "cell_type": "code",
   "execution_count": 13,
   "metadata": {},
   "outputs": [
    {
     "name": "stdout",
     "output_type": "stream",
     "text": [
      "<class 'pandas.core.frame.DataFrame'>\n",
      "Index: 9999 entries, 0 to 9999\n",
      "Data columns (total 7 columns):\n",
      " #   Column        Non-Null Count  Dtype         \n",
      "---  ------        --------------  -----         \n",
      " 0   ID            9999 non-null   object        \n",
      " 1   REVIEW_DATE   9999 non-null   datetime64[ns]\n",
      " 2   IS_VERIFIED   9999 non-null   bool          \n",
      " 3   RATING        9999 non-null   int64         \n",
      " 4   REVIEW_TITLE  9999 non-null   object        \n",
      " 5   REVIEW_TEXT   9999 non-null   object        \n",
      " 6   COUNTRY       9999 non-null   object        \n",
      "dtypes: bool(1), datetime64[ns](1), int64(1), object(4)\n",
      "memory usage: 556.6+ KB\n"
     ]
    }
   ],
   "source": [
    "reviews.info()"
   ]
  },
  {
   "cell_type": "code",
   "execution_count": 14,
   "metadata": {},
   "outputs": [
    {
     "data": {
      "text/html": [
       "<div>\n",
       "<style scoped>\n",
       "    .dataframe tbody tr th:only-of-type {\n",
       "        vertical-align: middle;\n",
       "    }\n",
       "\n",
       "    .dataframe tbody tr th {\n",
       "        vertical-align: top;\n",
       "    }\n",
       "\n",
       "    .dataframe thead th {\n",
       "        text-align: right;\n",
       "    }\n",
       "</style>\n",
       "<table border=\"1\" class=\"dataframe\">\n",
       "  <thead>\n",
       "    <tr style=\"text-align: right;\">\n",
       "      <th></th>\n",
       "      <th>REVIEW_DATE</th>\n",
       "      <th>RATING</th>\n",
       "    </tr>\n",
       "  </thead>\n",
       "  <tbody>\n",
       "    <tr>\n",
       "      <th>count</th>\n",
       "      <td>9999</td>\n",
       "      <td>9999.000000</td>\n",
       "    </tr>\n",
       "    <tr>\n",
       "      <th>mean</th>\n",
       "      <td>2019-05-12 18:08:27.650765056</td>\n",
       "      <td>3.708071</td>\n",
       "    </tr>\n",
       "    <tr>\n",
       "      <th>min</th>\n",
       "      <td>2000-06-17 00:00:00</td>\n",
       "      <td>1.000000</td>\n",
       "    </tr>\n",
       "    <tr>\n",
       "      <th>25%</th>\n",
       "      <td>2016-11-07 00:00:00</td>\n",
       "      <td>2.000000</td>\n",
       "    </tr>\n",
       "    <tr>\n",
       "      <th>50%</th>\n",
       "      <td>2020-01-06 00:00:00</td>\n",
       "      <td>5.000000</td>\n",
       "    </tr>\n",
       "    <tr>\n",
       "      <th>75%</th>\n",
       "      <td>2022-08-11 00:00:00</td>\n",
       "      <td>5.000000</td>\n",
       "    </tr>\n",
       "    <tr>\n",
       "      <th>max</th>\n",
       "      <td>2024-06-17 00:00:00</td>\n",
       "      <td>5.000000</td>\n",
       "    </tr>\n",
       "    <tr>\n",
       "      <th>std</th>\n",
       "      <td>NaN</td>\n",
       "      <td>1.625120</td>\n",
       "    </tr>\n",
       "  </tbody>\n",
       "</table>\n",
       "</div>"
      ],
      "text/plain": [
       "                         REVIEW_DATE       RATING\n",
       "count                           9999  9999.000000\n",
       "mean   2019-05-12 18:08:27.650765056     3.708071\n",
       "min              2000-06-17 00:00:00     1.000000\n",
       "25%              2016-11-07 00:00:00     2.000000\n",
       "50%              2020-01-06 00:00:00     5.000000\n",
       "75%              2022-08-11 00:00:00     5.000000\n",
       "max              2024-06-17 00:00:00     5.000000\n",
       "std                              NaN     1.625120"
      ]
     },
     "execution_count": 14,
     "metadata": {},
     "output_type": "execute_result"
    }
   ],
   "source": [
    "reviews.describe()"
   ]
  },
  {
   "cell_type": "markdown",
   "metadata": {},
   "source": [
    "## Visualizations"
   ]
  },
  {
   "cell_type": "code",
   "execution_count": 15,
   "metadata": {},
   "outputs": [
    {
     "data": {
      "image/png": "[encoded data removed]",
      "text/plain": [
       "<Figure size 2500x1000 with 1 Axes>"
      ]
     },
     "metadata": {},
     "output_type": "display_data"
    }
   ],
   "source": [
    "plt.style.use('fivethirtyeight')\n",
    "fix, ax = plt.subplots(figsize = (25, 10))\n",
    "\n",
    "ratings = reviews['RATING'].value_counts()\n",
    "ind = reviews['RATING'].unique()\n",
    "\n",
    "plt.bar(ind, ratings, color = 'firebrick', align = 'center')\n",
    "\n",
    "for p in ax.patches:\n",
    "    ax.text(p.get_x() + p.get_width() / 2,\n",
    "            p.get_height(),\n",
    "            '{:.0f}'.format(p.get_height()),\n",
    "            ha='center',\n",
    "            va='bottom'\n",
    "           )\n",
    "\n",
    "plt.title('Count of Ratings')\n",
    "plt.xlabel('Rating')\n",
    "plt.ylabel('Count')\n",
    "plt.show()"
   ]
  },
  {
   "cell_type": "code",
   "execution_count": 16,
   "metadata": {},
   "outputs": [],
   "source": [
    "# dataset is unbalanced, but that is ok in our context as we will not be exploring the relationship between variables, just the underlying text"
   ]
  },
  {
   "cell_type": "code",
   "execution_count": 17,
   "metadata": {},
   "outputs": [
    {
     "data": {
      "text/html": [
       "<div>\n",
       "<style scoped>\n",
       "    .dataframe tbody tr th:only-of-type {\n",
       "        vertical-align: middle;\n",
       "    }\n",
       "\n",
       "    .dataframe tbody tr th {\n",
       "        vertical-align: top;\n",
       "    }\n",
       "\n",
       "    .dataframe thead th {\n",
       "        text-align: right;\n",
       "    }\n",
       "</style>\n",
       "<table border=\"1\" class=\"dataframe\">\n",
       "  <thead>\n",
       "    <tr style=\"text-align: right;\">\n",
       "      <th></th>\n",
       "      <th>ID</th>\n",
       "      <th>REVIEW_DATE</th>\n",
       "      <th>IS_VERIFIED</th>\n",
       "      <th>RATING</th>\n",
       "      <th>REVIEW_TITLE</th>\n",
       "      <th>REVIEW_TEXT</th>\n",
       "      <th>COUNTRY</th>\n",
       "    </tr>\n",
       "  </thead>\n",
       "  <tbody>\n",
       "    <tr>\n",
       "      <th>0</th>\n",
       "      <td>3129911</td>\n",
       "      <td>2022-08-17</td>\n",
       "      <td>True</td>\n",
       "      <td>1</td>\n",
       "      <td>This has NO flavor</td>\n",
       "      <td>This item has no flavor, several people have t...</td>\n",
       "      <td>United States</td>\n",
       "    </tr>\n",
       "    <tr>\n",
       "      <th>1</th>\n",
       "      <td>2702184</td>\n",
       "      <td>2022-06-07</td>\n",
       "      <td>True</td>\n",
       "      <td>1</td>\n",
       "      <td>Different formula</td>\n",
       "      <td>I have used this brand of sunscreen for about ...</td>\n",
       "      <td>United States</td>\n",
       "    </tr>\n",
       "    <tr>\n",
       "      <th>2</th>\n",
       "      <td>760128</td>\n",
       "      <td>2014-06-03</td>\n",
       "      <td>True</td>\n",
       "      <td>5</td>\n",
       "      <td>Vitex!!!</td>\n",
       "      <td>Have been using these for at least 20 months a...</td>\n",
       "      <td>United States</td>\n",
       "    </tr>\n",
       "    <tr>\n",
       "      <th>3</th>\n",
       "      <td>760140</td>\n",
       "      <td>2013-11-24</td>\n",
       "      <td>True</td>\n",
       "      <td>5</td>\n",
       "      <td>Stopping hair loss</td>\n",
       "      <td>Bought this to help fight hair loss along with...</td>\n",
       "      <td>United States</td>\n",
       "    </tr>\n",
       "    <tr>\n",
       "      <th>4</th>\n",
       "      <td>760132</td>\n",
       "      <td>2014-04-10</td>\n",
       "      <td>True</td>\n",
       "      <td>5</td>\n",
       "      <td>coming off of birth control</td>\n",
       "      <td>this company is one of the best most honest i'...</td>\n",
       "      <td>United States</td>\n",
       "    </tr>\n",
       "  </tbody>\n",
       "</table>\n",
       "</div>"
      ],
      "text/plain": [
       "        ID REVIEW_DATE  IS_VERIFIED  RATING                 REVIEW_TITLE  \\\n",
       "0  3129911  2022-08-17         True       1           This has NO flavor   \n",
       "1  2702184  2022-06-07         True       1            Different formula   \n",
       "2   760128  2014-06-03         True       5                     Vitex!!!   \n",
       "3   760140  2013-11-24         True       5           Stopping hair loss   \n",
       "4   760132  2014-04-10         True       5  coming off of birth control   \n",
       "\n",
       "                                         REVIEW_TEXT        COUNTRY  \n",
       "0  This item has no flavor, several people have t...  United States  \n",
       "1  I have used this brand of sunscreen for about ...  United States  \n",
       "2  Have been using these for at least 20 months a...  United States  \n",
       "3  Bought this to help fight hair loss along with...  United States  \n",
       "4  this company is one of the best most honest i'...  United States  "
      ]
     },
     "execution_count": 17,
     "metadata": {},
     "output_type": "execute_result"
    }
   ],
   "source": [
    "reviews.head()"
   ]
  },
  {
   "cell_type": "markdown",
   "metadata": {},
   "source": [
    "## Removing non-english reviews"
   ]
  },
  {
   "cell_type": "code",
   "execution_count": 18,
   "metadata": {},
   "outputs": [],
   "source": [
    "def detect_language(text):\n",
    "    try:\n",
    "        lang = detect(text)\n",
    "    except:\n",
    "        lang = 'unknown'\n",
    "    return lang"
   ]
  },
  {
   "cell_type": "code",
   "execution_count": 19,
   "metadata": {},
   "outputs": [],
   "source": [
    "reviews['language'] = reviews['REVIEW_TEXT'].apply(detect_language)"
   ]
  },
  {
   "cell_type": "code",
   "execution_count": 20,
   "metadata": {},
   "outputs": [
    {
     "data": {
      "text/plain": [
       "language\n",
       "en         9599\n",
       "es          104\n",
       "de           75\n",
       "ja           63\n",
       "fr           59\n",
       "it           34\n",
       "pt           11\n",
       "ca            8\n",
       "af            8\n",
       "ro            6\n",
       "nl            5\n",
       "so            5\n",
       "no            5\n",
       "da            3\n",
       "id            2\n",
       "sv            2\n",
       "sl            2\n",
       "et            2\n",
       "tl            2\n",
       "cy            2\n",
       "unknown       1\n",
       "hu            1\n",
       "Name: count, dtype: int64"
      ]
     },
     "execution_count": 20,
     "metadata": {},
     "output_type": "execute_result"
    }
   ],
   "source": [
    "reviews['language'].value_counts()"
   ]
  },
  {
   "cell_type": "code",
   "execution_count": 21,
   "metadata": {},
   "outputs": [],
   "source": [
    "english_mask = reviews['language'] == 'en'\n",
    "english_reviews = reviews[english_mask]"
   ]
  },
  {
   "cell_type": "code",
   "execution_count": 22,
   "metadata": {},
   "outputs": [
    {
     "name": "stderr",
     "output_type": "stream",
     "text": [
      "/var/folders/lr/994tkpld58q9sbf0jsds90h80000gn/T/ipykernel_311/1936066079.py:1: SettingWithCopyWarning: \n",
      "A value is trying to be set on a copy of a slice from a DataFrame.\n",
      "Try using .loc[row_indexer,col_indexer] = value instead\n",
      "\n",
      "See the caveats in the documentation: https://pandas.pydata.org/pandas-docs/stable/user_guide/indexing.html#returning-a-view-versus-a-copy\n",
      "  english_reviews['word_count'] = english_reviews['REVIEW_TEXT'].apply(lambda x: len(x.split()))\n"
     ]
    }
   ],
   "source": [
    "english_reviews['word_count'] = english_reviews['REVIEW_TEXT'].apply(lambda x: len(x.split()))"
   ]
  },
  {
   "cell_type": "code",
   "execution_count": 23,
   "metadata": {},
   "outputs": [
    {
     "data": {
      "text/plain": [
       "Text(0.5, 1.0, 'Number of words by review histogram')"
      ]
     },
     "execution_count": 23,
     "metadata": {},
     "output_type": "execute_result"
    },
    {
     "data": {
      "image/png": "[encoded data removed]",
      "text/plain": [
       "<Figure size 2500x1000 with 1 Axes>"
      ]
     },
     "metadata": {},
     "output_type": "display_data"
    }
   ],
   "source": [
    "plt.style.use('fivethirtyeight')\n",
    "fig, ax = plt.subplots(figsize = (25, 10))\n",
    "\n",
    "sns.histplot(data=english_reviews, x='word_count', hue='RATING', multiple='dodge', legend='RATING', kde = True, bins = 50)\n",
    "\n",
    "plt.xlabel('Word count per review')\n",
    "plt.ylabel('Count')\n",
    "plt.title('Number of words by review histogram')"
   ]
  },
  {
   "cell_type": "code",
   "execution_count": 24,
   "metadata": {},
   "outputs": [
    {
     "name": "stderr",
     "output_type": "stream",
     "text": [
      "/var/folders/lr/994tkpld58q9sbf0jsds90h80000gn/T/ipykernel_311/3030392025.py:7: MatplotlibDeprecationWarning: The 'labels' parameter of boxplot() has been renamed 'tick_labels' since Matplotlib 3.9; support for the old name will be dropped in 3.11.\n",
      "  bp = plt.boxplot(data, labels = english_reviews['RATING'].unique(), patch_artist=True)\n"
     ]
    },
    {
     "data": {
      "text/plain": [
       "Text(0, 0.5, 'Word count')"
      ]
     },
     "execution_count": 24,
     "metadata": {},
     "output_type": "execute_result"
    },
    {
     "data": {
      "image/png": "[encoded data removed]",
      "text/plain": [
       "<Figure size 2500x1000 with 1 Axes>"
      ]
     },
     "metadata": {},
     "output_type": "display_data"
    }
   ],
   "source": [
    "plt.style.use('fivethirtyeight')\n",
    "fig, ax = plt.subplots(figsize = (25, 10))\n",
    "\n",
    "wc_group = english_reviews.groupby('RATING')['word_count'].apply(list)\n",
    "data = [wc_group[cat] for cat in english_reviews['RATING'].unique()]\n",
    "\n",
    "bp = plt.boxplot(data, labels = english_reviews['RATING'].unique(), patch_artist=True)\n",
    "\n",
    "colors = ['blue', 'black', 'green', 'yellow', 'purple']\n",
    "for patch, color in zip(bp['boxes'], colors):\n",
    "    patch.set_facecolor(color)\n",
    "\n",
    "plt.title('Word count boxplot')\n",
    "plt.xlabel('Review score')\n",
    "plt.ylabel('Word count')"
   ]
  },
  {
   "cell_type": "code",
   "execution_count": 54,
   "metadata": {},
   "outputs": [
    {
     "data": {
      "text/plain": [
       "2749    Beautiful fit and finish but not durable.  Probably great if you're flipping a house.  I installed a complete line of Baldwin Madrina entry door locks and deadbolts before learning that they are no longer made by Baldwin but instead by Kwikset after being bought by Black and Decker in 2003.  While these look great really nice, the Kwikset Smartkey cylinders are failing after less than 5 years.  I have had 3 go bad so far this year.  The key simply stops working.  While they have a \"lifetime\" warranty, I have had to purchase replacements since mailing the failed lock in and waiting for a replacement takes > 2 weeks and, in my neighborhood, leaving the front door unlocked for 2 weeks is simply not an option.  Now I know why my local locksmith referred to them as \"fake Baldwins\" when I inquired about getting them repaired which I thought might be faster.  Hopefully, Kwikset/Baldwin will re-design the very convenient Smartkey cylinders to be more durable since it is going to be very expensive for me to replace all the entry locks and deadbolts with another make (probably Schlage entry sets if this continues)\n",
       "Name: REVIEW_TEXT, dtype: object"
      ]
     },
     "execution_count": 54,
     "metadata": {},
     "output_type": "execute_result"
    }
   ],
   "source": [
    "pd.set_option('display.max_colwidth', None)\n",
    "english_reviews_train['REVIEW_TEXT'].sample(1)"
   ]
  },
  {
   "cell_type": "markdown",
   "metadata": {},
   "source": [
    "# Count Vectorize"
   ]
  },
  {
   "cell_type": "code",
   "execution_count": 63,
   "metadata": {},
   "outputs": [],
   "source": [
    "def remove_punctuation(text):\n",
    "    final = \"\".join(u for u in text if u not in ('?', '.', ';', ':', '!', '\"', \"'\", '(', ')', '[', ']', '/', ',', '-'))\n",
    "    return final"
   ]
  },
  {
   "cell_type": "code",
   "execution_count": 45,
   "metadata": {},
   "outputs": [],
   "source": [
    "token = RegexpTokenizer(f'[a-zA-Z0-9]+')"
   ]
  },
  {
   "cell_type": "code",
   "execution_count": 64,
   "metadata": {},
   "outputs": [],
   "source": [
    "test_token = 'Beautiful fit and finish but not durable.  Probably great if you\\'re flipping a house.  I installed a complete line of Baldwin Madrina entry door locks and deadbolts before learning that they are no longer made by Baldwin but instead by Kwikset after being bought by Black and Decker in 2003.  While these look great really nice, the Kwikset Smartkey cylinders are failing after less than 5 years.  I have had 3 go bad so far this year.  The key simply stops working.  While they have a \"lifetime\" warranty, I have had to purchase replacements since mailing the failed lock in and waiting for a replacement takes > 2 weeks and, in my neighborhood, leaving the front door unlocked for 2 weeks is simply not an option.  Now I know why my local locksmith referred to them as \"fake Baldwins\" when I inquired about getting them repaired which I thought might be faster.  Hopefully, Kwikset/Baldwin will re-design the very convenient Smartkey cylinders to be more durable since it is going to be very expensive for me to replace all the entry locks and deadbolts with another make (probably Schlage entry sets if this continues'"
   ]
  },
  {
   "cell_type": "code",
   "execution_count": 65,
   "metadata": {},
   "outputs": [
    {
     "data": {
      "text/plain": [
       "'Beautiful fit and finish but not durable  Probably great if youre flipping a house  I installed a complete line of Baldwin Madrina entry door locks and deadbolts before learning that they are no longer made by Baldwin but instead by Kwikset after being bought by Black and Decker in 2003  While these look great really nice the Kwikset Smartkey cylinders are failing after less than 5 years  I have had 3 go bad so far this year  The key simply stops working  While they have a lifetime warranty I have had to purchase replacements since mailing the failed lock in and waiting for a replacement takes > 2 weeks and in my neighborhood leaving the front door unlocked for 2 weeks is simply not an option  Now I know why my local locksmith referred to them as fake Baldwins when I inquired about getting them repaired which I thought might be faster  Hopefully KwiksetBaldwin will redesign the very convenient Smartkey cylinders to be more durable since it is going to be very expensive for me to replace all the entry locks and deadbolts with another make probably Schlage entry sets if this continues'"
      ]
     },
     "execution_count": 65,
     "metadata": {},
     "output_type": "execute_result"
    }
   ],
   "source": [
    "remove_punctuation(test_token)"
   ]
  },
  {
   "cell_type": "code",
   "execution_count": 66,
   "metadata": {},
   "outputs": [
    {
     "data": {
      "text/plain": [
       "['Beautiful',\n",
       " 'fit',\n",
       " 'and',\n",
       " 'finish',\n",
       " 'but',\n",
       " 'not',\n",
       " 'durable',\n",
       " 'Probably',\n",
       " 'great',\n",
       " 'if',\n",
       " 'youre',\n",
       " 'flipping',\n",
       " 'a',\n",
       " 'house',\n",
       " 'I',\n",
       " 'installed',\n",
       " 'a',\n",
       " 'complete',\n",
       " 'line',\n",
       " 'of',\n",
       " 'Baldwin',\n",
       " 'Madrina',\n",
       " 'entry',\n",
       " 'door',\n",
       " 'locks',\n",
       " 'and',\n",
       " 'deadbolts',\n",
       " 'before',\n",
       " 'learning',\n",
       " 'that',\n",
       " 'they',\n",
       " 'are',\n",
       " 'no',\n",
       " 'longer',\n",
       " 'made',\n",
       " 'by',\n",
       " 'Baldwin',\n",
       " 'but',\n",
       " 'instead',\n",
       " 'by',\n",
       " 'Kwikset',\n",
       " 'after',\n",
       " 'being',\n",
       " 'bought',\n",
       " 'by',\n",
       " 'Black',\n",
       " 'and',\n",
       " 'Decker',\n",
       " 'in',\n",
       " '2003',\n",
       " 'While',\n",
       " 'these',\n",
       " 'look',\n",
       " 'great',\n",
       " 'really',\n",
       " 'nice',\n",
       " 'the',\n",
       " 'Kwikset',\n",
       " 'Smartkey',\n",
       " 'cylinders',\n",
       " 'are',\n",
       " 'failing',\n",
       " 'after',\n",
       " 'less',\n",
       " 'than',\n",
       " '5',\n",
       " 'years',\n",
       " 'I',\n",
       " 'have',\n",
       " 'had',\n",
       " '3',\n",
       " 'go',\n",
       " 'bad',\n",
       " 'so',\n",
       " 'far',\n",
       " 'this',\n",
       " 'year',\n",
       " 'The',\n",
       " 'key',\n",
       " 'simply',\n",
       " 'stops',\n",
       " 'working',\n",
       " 'While',\n",
       " 'they',\n",
       " 'have',\n",
       " 'a',\n",
       " 'lifetime',\n",
       " 'warranty',\n",
       " 'I',\n",
       " 'have',\n",
       " 'had',\n",
       " 'to',\n",
       " 'purchase',\n",
       " 'replacements',\n",
       " 'since',\n",
       " 'mailing',\n",
       " 'the',\n",
       " 'failed',\n",
       " 'lock',\n",
       " 'in',\n",
       " 'and',\n",
       " 'waiting',\n",
       " 'for',\n",
       " 'a',\n",
       " 'replacement',\n",
       " 'takes',\n",
       " '2',\n",
       " 'weeks',\n",
       " 'and',\n",
       " 'in',\n",
       " 'my',\n",
       " 'neighborhood',\n",
       " 'leaving',\n",
       " 'the',\n",
       " 'front',\n",
       " 'door',\n",
       " 'unlocked',\n",
       " 'for',\n",
       " '2',\n",
       " 'weeks',\n",
       " 'is',\n",
       " 'simply',\n",
       " 'not',\n",
       " 'an',\n",
       " 'option',\n",
       " 'Now',\n",
       " 'I',\n",
       " 'know',\n",
       " 'why',\n",
       " 'my',\n",
       " 'local',\n",
       " 'locksmith',\n",
       " 'referred',\n",
       " 'to',\n",
       " 'them',\n",
       " 'as',\n",
       " 'fake',\n",
       " 'Baldwins',\n",
       " 'when',\n",
       " 'I',\n",
       " 'inquired',\n",
       " 'about',\n",
       " 'getting',\n",
       " 'them',\n",
       " 'repaired',\n",
       " 'which',\n",
       " 'I',\n",
       " 'thought',\n",
       " 'might',\n",
       " 'be',\n",
       " 'faster',\n",
       " 'Hopefully',\n",
       " 'KwiksetBaldwin',\n",
       " 'will',\n",
       " 'redesign',\n",
       " 'the',\n",
       " 'very',\n",
       " 'convenient',\n",
       " 'Smartkey',\n",
       " 'cylinders',\n",
       " 'to',\n",
       " 'be',\n",
       " 'more',\n",
       " 'durable',\n",
       " 'since',\n",
       " 'it',\n",
       " 'is',\n",
       " 'going',\n",
       " 'to',\n",
       " 'be',\n",
       " 'very',\n",
       " 'expensive',\n",
       " 'for',\n",
       " 'me',\n",
       " 'to',\n",
       " 'replace',\n",
       " 'all',\n",
       " 'the',\n",
       " 'entry',\n",
       " 'locks',\n",
       " 'and',\n",
       " 'deadbolts',\n",
       " 'with',\n",
       " 'another',\n",
       " 'make',\n",
       " 'probably',\n",
       " 'Schlage',\n",
       " 'entry',\n",
       " 'sets',\n",
       " 'if',\n",
       " 'this',\n",
       " 'continues']"
      ]
     },
     "execution_count": 66,
     "metadata": {},
     "output_type": "execute_result"
    }
   ],
   "source": [
    "token.tokenize(remove_punctuation(test_token))"
   ]
  },
  {
   "cell_type": "markdown",
   "metadata": {},
   "source": [
    "# Train Test Split P2"
   ]
  },
  {
   "cell_type": "code",
   "execution_count": null,
   "metadata": {},
   "outputs": [],
   "source": []
  },
  {
   "cell_type": "markdown",
   "metadata": {},
   "source": [
    "# Train Test Split"
   ]
  },
  {
   "cell_type": "code",
   "execution_count": 25,
   "metadata": {},
   "outputs": [
    {
     "data": {
      "text/html": [
       "<div>\n",
       "<style scoped>\n",
       "    .dataframe tbody tr th:only-of-type {\n",
       "        vertical-align: middle;\n",
       "    }\n",
       "\n",
       "    .dataframe tbody tr th {\n",
       "        vertical-align: top;\n",
       "    }\n",
       "\n",
       "    .dataframe thead th {\n",
       "        text-align: right;\n",
       "    }\n",
       "</style>\n",
       "<table border=\"1\" class=\"dataframe\">\n",
       "  <thead>\n",
       "    <tr style=\"text-align: right;\">\n",
       "      <th></th>\n",
       "      <th>ID</th>\n",
       "      <th>REVIEW_DATE</th>\n",
       "      <th>IS_VERIFIED</th>\n",
       "      <th>RATING</th>\n",
       "      <th>REVIEW_TITLE</th>\n",
       "      <th>REVIEW_TEXT</th>\n",
       "      <th>COUNTRY</th>\n",
       "      <th>language</th>\n",
       "      <th>word_count</th>\n",
       "    </tr>\n",
       "  </thead>\n",
       "  <tbody>\n",
       "    <tr>\n",
       "      <th>218</th>\n",
       "      <td>86052</td>\n",
       "      <td>2017-08-18</td>\n",
       "      <td>True</td>\n",
       "      <td>5</td>\n",
       "      <td>LOVE this stuff</td>\n",
       "      <td>LOVE this stuff!I took collogen the last few m...</td>\n",
       "      <td>United States</td>\n",
       "      <td>en</td>\n",
       "      <td>35</td>\n",
       "    </tr>\n",
       "    <tr>\n",
       "      <th>7325</th>\n",
       "      <td>3656871</td>\n",
       "      <td>2022-02-09</td>\n",
       "      <td>True</td>\n",
       "      <td>2</td>\n",
       "      <td>Doesn’t really work</td>\n",
       "      <td>I bought this product last year (2021) when it...</td>\n",
       "      <td>United States</td>\n",
       "      <td>en</td>\n",
       "      <td>417</td>\n",
       "    </tr>\n",
       "    <tr>\n",
       "      <th>2710</th>\n",
       "      <td>6265223</td>\n",
       "      <td>2017-05-13</td>\n",
       "      <td>True</td>\n",
       "      <td>5</td>\n",
       "      <td>best \"bare skin\" type out there</td>\n",
       "      <td>Amazing. Best condoms we have found. Seriously...</td>\n",
       "      <td>United States</td>\n",
       "      <td>en</td>\n",
       "      <td>43</td>\n",
       "    </tr>\n",
       "    <tr>\n",
       "      <th>5977</th>\n",
       "      <td>1150173</td>\n",
       "      <td>2010-03-10</td>\n",
       "      <td>True</td>\n",
       "      <td>5</td>\n",
       "      <td>Fantastic</td>\n",
       "      <td>Great price, great taste, love the \"Subscribe ...</td>\n",
       "      <td>United States</td>\n",
       "      <td>en</td>\n",
       "      <td>37</td>\n",
       "    </tr>\n",
       "    <tr>\n",
       "      <th>9636</th>\n",
       "      <td>4066936</td>\n",
       "      <td>2023-01-04</td>\n",
       "      <td>True</td>\n",
       "      <td>4</td>\n",
       "      <td>Very strong</td>\n",
       "      <td>One spritz and the entire room fills with a ve...</td>\n",
       "      <td>United States</td>\n",
       "      <td>en</td>\n",
       "      <td>30</td>\n",
       "    </tr>\n",
       "  </tbody>\n",
       "</table>\n",
       "</div>"
      ],
      "text/plain": [
       "           ID REVIEW_DATE  IS_VERIFIED  RATING  \\\n",
       "218     86052  2017-08-18         True       5   \n",
       "7325  3656871  2022-02-09         True       2   \n",
       "2710  6265223  2017-05-13         True       5   \n",
       "5977  1150173  2010-03-10         True       5   \n",
       "9636  4066936  2023-01-04         True       4   \n",
       "\n",
       "                         REVIEW_TITLE  \\\n",
       "218                   LOVE this stuff   \n",
       "7325              Doesn’t really work   \n",
       "2710  best \"bare skin\" type out there   \n",
       "5977                        Fantastic   \n",
       "9636                      Very strong   \n",
       "\n",
       "                                            REVIEW_TEXT        COUNTRY  \\\n",
       "218   LOVE this stuff!I took collogen the last few m...  United States   \n",
       "7325  I bought this product last year (2021) when it...  United States   \n",
       "2710  Amazing. Best condoms we have found. Seriously...  United States   \n",
       "5977  Great price, great taste, love the \"Subscribe ...  United States   \n",
       "9636  One spritz and the entire room fills with a ve...  United States   \n",
       "\n",
       "     language  word_count  \n",
       "218        en          35  \n",
       "7325       en         417  \n",
       "2710       en          43  \n",
       "5977       en          37  \n",
       "9636       en          30  "
      ]
     },
     "execution_count": 25,
     "metadata": {},
     "output_type": "execute_result"
    }
   ],
   "source": [
    "# final sample of the english_reviews dataset that will be split into training and testing datasets\n",
    "english_reviews.sample(5)"
   ]
  },
  {
   "cell_type": "code",
   "execution_count": 26,
   "metadata": {},
   "outputs": [],
   "source": [
    "english_reviews_train, english_reviews_test = train_test_split(english_reviews, test_size=0.15, random_state=42)"
   ]
  },
  {
   "cell_type": "code",
   "execution_count": 27,
   "metadata": {},
   "outputs": [
    {
     "name": "stdout",
     "output_type": "stream",
     "text": [
      "The number of rows in the training dataset is: 8159\n"
     ]
    }
   ],
   "source": [
    "print(f'The number of rows in the training dataset is: {len(english_reviews_train)}')"
   ]
  },
  {
   "cell_type": "code",
   "execution_count": 28,
   "metadata": {},
   "outputs": [
    {
     "name": "stdout",
     "output_type": "stream",
     "text": [
      "The number of rows in the testing dataset is: 1440\n"
     ]
    }
   ],
   "source": [
    "print(f'The number of rows in the testing dataset is: {len(english_reviews_test)}')"
   ]
  },
  {
   "cell_type": "code",
   "execution_count": 29,
   "metadata": {},
   "outputs": [],
   "source": [
    "y = english_reviews_train['RATING'].tolist()\n",
    "english_reviews_train_text = english_reviews_train['REVIEW_TEXT']"
   ]
  },
  {
   "cell_type": "markdown",
   "metadata": {},
   "source": [
    "# Implementing TF-IDF"
   ]
  },
  {
   "cell_type": "code",
   "execution_count": 30,
   "metadata": {},
   "outputs": [],
   "source": [
    "tfidf = TfidfVectorizer(ngram_range =(1,2), stop_words = 'english', max_features = 1000)\n",
    "features = tfidf.fit_transform(english_reviews_train_text)\n",
    "df_tfidf = pd.DataFrame(features.toarray(), columns = tfidf.get_feature_names_out())"
   ]
  },
  {
   "cell_type": "code",
   "execution_count": 31,
   "metadata": {},
   "outputs": [
    {
     "data": {
      "text/plain": [
       "\"I love caron , it's so beautiful,  but it's not for beginners because if you aren't careful it will unravel as it's very fine and pretty.  One of my favorite yarns.  It also came very quickly.  I was so happy about that .\""
      ]
     },
     "execution_count": 31,
     "metadata": {},
     "output_type": "execute_result"
    }
   ],
   "source": [
    "# original review\n",
    "english_reviews_train.iloc[2]['REVIEW_TEXT']"
   ]
  },
  {
   "cell_type": "code",
   "execution_count": 32,
   "metadata": {},
   "outputs": [],
   "source": [
    "df_tfidf_three  = df_tfidf.iloc[2]\n",
    "sorted_doc_three_scores = df_tfidf_three.sort_values(ascending=False)"
   ]
  },
  {
   "cell_type": "code",
   "execution_count": 33,
   "metadata": {},
   "outputs": [
    {
     "data": {
      "text/plain": [
       "aren             0.376153\n",
       "beautiful        0.369643\n",
       "careful          0.366938\n",
       "favorite         0.358819\n",
       "quickly          0.317634\n",
       "fine             0.287203\n",
       "came             0.278496\n",
       "pretty           0.277594\n",
       "happy            0.272917\n",
       "love             0.214473\n",
       "purchased        0.000000\n",
       "product works    0.000000\n",
       "quick            0.000000\n",
       "pro              0.000000\n",
       "quality          0.000000\n",
       "probably         0.000000\n",
       "probiotics       0.000000\n",
       "problem          0.000000\n",
       "problems         0.000000\n",
       "process          0.000000\n",
       "Name: 2, dtype: float64"
      ]
     },
     "execution_count": 33,
     "metadata": {},
     "output_type": "execute_result"
    }
   ],
   "source": [
    "sorted_doc_three_scores[:20]"
   ]
  },
  {
   "cell_type": "code",
   "execution_count": 34,
   "metadata": {},
   "outputs": [
    {
     "data": {
      "text/plain": [
       "Text(0.5, 0, 'Terms')"
      ]
     },
     "execution_count": 34,
     "metadata": {},
     "output_type": "execute_result"
    },
    {
     "data": {
      "image/png": "[encoded data removed]",
      "text/plain": [
       "<Figure size 2500x1000 with 1 Axes>"
      ]
     },
     "metadata": {},
     "output_type": "display_data"
    }
   ],
   "source": [
    "plt.style.use('fivethirtyeight')\n",
    "fig, ax = plt.subplots(figsize = (25, 10))\n",
    "\n",
    "sorted_doc_three_scores[:20].plot(kind = 'bar')\n",
    "plt.title('TF-IDF score for review 3')\n",
    "plt.ylabel('TF-IDF score')\n",
    "plt.xlabel('Terms')"
   ]
  },
  {
   "cell_type": "markdown",
   "metadata": {},
   "source": [
    "# Unsupervised model"
   ]
  },
  {
   "cell_type": "code",
   "execution_count": 35,
   "metadata": {},
   "outputs": [
    {
     "name": "stderr",
     "output_type": "stream",
     "text": [
      "/Users/cman/Desktop/code/customer_reviews/.venv/lib/python3.12/site-packages/sklearn/decomposition/_nmf.py:1200: FutureWarning: The default value of `n_components` will change from `None` to `'auto'` in 1.6. Set the value of `n_components` to `None` explicitly to suppress the warning.\n",
      "  warnings.warn(\n"
     ]
    },
    {
     "name": "stdout",
     "output_type": "stream",
     "text": [
      "violation: 1.0\n",
      "violation: 0.37071940585730134\n",
      "violation: 0.18653409569828172\n",
      "violation: 0.11751178629870276\n",
      "violation: 0.07368820198843652\n",
      "violation: 0.044319022149273496\n",
      "violation: 0.02744696400666932\n",
      "violation: 0.01893889605901507\n",
      "violation: 0.014305851597060782\n",
      "violation: 0.011802504253696057\n",
      "violation: 0.009958419230759696\n",
      "violation: 0.007956722054521949\n",
      "violation: 0.00640507673529815\n",
      "violation: 0.005198639527460903\n",
      "violation: 0.003909172945831757\n",
      "violation: 0.0030624256480322283\n",
      "violation: 0.002321224604282337\n",
      "violation: 0.0019806962265342012\n",
      "violation: 0.0018771151770670487\n",
      "violation: 0.0018715430292708271\n",
      "violation: 0.0018856842426377858\n",
      "violation: 0.001701715515717006\n",
      "violation: 0.0015835259678161546\n",
      "violation: 0.0014992425051322232\n",
      "violation: 0.0012209165561808638\n",
      "violation: 0.0009613810046532925\n",
      "violation: 0.0010437907198441072\n",
      "violation: 0.0010033647949247637\n",
      "violation: 0.001074115888528422\n",
      "violation: 0.0008285146661400814\n",
      "violation: 0.0005439953631019925\n",
      "violation: 0.0006112991569715198\n",
      "violation: 0.0007877239539501771\n",
      "violation: 0.0008500881300017835\n",
      "violation: 0.0007824582797175315\n",
      "violation: 0.0007117136885728452\n",
      "violation: 0.0005561222529090982\n",
      "violation: 0.0003791050628475157\n",
      "violation: 0.0003849146269099158\n",
      "violation: 0.0004518110073900573\n",
      "violation: 0.0005421074468708447\n",
      "violation: 0.000633422487494672\n",
      "violation: 0.0006740025224554232\n",
      "violation: 0.0004811664564458019\n",
      "violation: 0.0003582823616495776\n",
      "violation: 0.0003413543507860398\n",
      "violation: 0.000347924354380104\n",
      "violation: 0.00035584651248325103\n",
      "violation: 0.00035640357786798657\n",
      "violation: 0.0003569256086825007\n",
      "violation: 0.00038014938526631953\n",
      "violation: 0.0004695691077784864\n",
      "violation: 0.00055120177841914\n",
      "violation: 0.00036333154173796774\n",
      "violation: 0.00024171060160646168\n",
      "violation: 0.00022221839846595475\n",
      "violation: 0.0002416589683122138\n",
      "violation: 0.00030228365886856456\n",
      "violation: 0.00036865352827469616\n",
      "violation: 0.00039090029331403806\n",
      "violation: 0.0002692305503004582\n",
      "violation: 0.00015215065228126458\n",
      "violation: 0.0001248588057292058\n",
      "violation: 0.00011645981774193854\n",
      "violation: 0.00011183768686087641\n",
      "violation: 0.00011110577951754326\n",
      "violation: 0.00011338898104025052\n",
      "violation: 0.00011664586614789111\n",
      "violation: 0.00012063337797014332\n",
      "violation: 0.00012474945680577683\n",
      "violation: 0.00013152040290975828\n",
      "violation: 0.00014499567315966864\n",
      "violation: 0.0001728941927285457\n",
      "violation: 0.00023722247478003962\n",
      "violation: 0.0003926018640830985\n",
      "violation: 0.0006003136431445285\n",
      "violation: 0.0003169899308624479\n",
      "violation: 0.00013774877101998265\n",
      "violation: 9.448330457226915e-05\n",
      "Converged at iteration 80\n"
     ]
    }
   ],
   "source": [
    "model_nmf = NMF( init = 'random', beta_loss = 'frobenius',  verbose = 1, random_state = 42).fit(df_tfidf)\n",
    "# max_iter = 100,\n",
    "# n_components = 5,"
   ]
  },
  {
   "cell_type": "code",
   "execution_count": 36,
   "metadata": {},
   "outputs": [
    {
     "name": "stderr",
     "output_type": "stream",
     "text": [
      "/Users/cman/Desktop/code/customer_reviews/.venv/lib/python3.12/site-packages/sklearn/decomposition/_nmf.py:1200: FutureWarning: The default value of `n_components` will change from `None` to `'auto'` in 1.6. Set the value of `n_components` to `None` explicitly to suppress the warning.\n",
      "  warnings.warn(\n"
     ]
    },
    {
     "name": "stdout",
     "output_type": "stream",
     "text": [
      "violation: 1.0\n",
      "violation: 0.02930056374618934\n",
      "violation: 0.00550006262878493\n",
      "violation: 0.0015969224228727372\n",
      "violation: 0.0006090274725418436\n",
      "violation: 0.00029439422105068797\n",
      "violation: 0.0001824225372382942\n",
      "violation: 0.00013803689540558013\n",
      "violation: 0.00011749393729029404\n",
      "violation: 0.00010322818083527812\n",
      "violation: 9.114961852245858e-05\n",
      "Converged at iteration 12\n"
     ]
    },
    {
     "data": {
      "text/html": [
       "<div>\n",
       "<style scoped>\n",
       "    .dataframe tbody tr th:only-of-type {\n",
       "        vertical-align: middle;\n",
       "    }\n",
       "\n",
       "    .dataframe tbody tr th {\n",
       "        vertical-align: top;\n",
       "    }\n",
       "\n",
       "    .dataframe thead th {\n",
       "        text-align: right;\n",
       "    }\n",
       "</style>\n",
       "<table border=\"1\" class=\"dataframe\">\n",
       "  <thead>\n",
       "    <tr style=\"text-align: right;\">\n",
       "      <th></th>\n",
       "      <th>0</th>\n",
       "      <th>1</th>\n",
       "      <th>2</th>\n",
       "      <th>3</th>\n",
       "      <th>4</th>\n",
       "      <th>5</th>\n",
       "      <th>6</th>\n",
       "      <th>7</th>\n",
       "      <th>8</th>\n",
       "      <th>9</th>\n",
       "      <th>...</th>\n",
       "      <th>990</th>\n",
       "      <th>991</th>\n",
       "      <th>992</th>\n",
       "      <th>993</th>\n",
       "      <th>994</th>\n",
       "      <th>995</th>\n",
       "      <th>996</th>\n",
       "      <th>997</th>\n",
       "      <th>998</th>\n",
       "      <th>999</th>\n",
       "    </tr>\n",
       "  </thead>\n",
       "  <tbody>\n",
       "    <tr>\n",
       "      <th>0</th>\n",
       "      <td>0.0</td>\n",
       "      <td>0.0</td>\n",
       "      <td>3.28894</td>\n",
       "      <td>0.000000</td>\n",
       "      <td>0.0</td>\n",
       "      <td>5.973811</td>\n",
       "      <td>0.0</td>\n",
       "      <td>0.0</td>\n",
       "      <td>0.0</td>\n",
       "      <td>0.0</td>\n",
       "      <td>...</td>\n",
       "      <td>0.0</td>\n",
       "      <td>0.0</td>\n",
       "      <td>0.0</td>\n",
       "      <td>0.0</td>\n",
       "      <td>0.0</td>\n",
       "      <td>0.000665</td>\n",
       "      <td>0.000746</td>\n",
       "      <td>0.0</td>\n",
       "      <td>0.0</td>\n",
       "      <td>0.0</td>\n",
       "    </tr>\n",
       "    <tr>\n",
       "      <th>1</th>\n",
       "      <td>0.0</td>\n",
       "      <td>0.0</td>\n",
       "      <td>0.00000</td>\n",
       "      <td>2.327156</td>\n",
       "      <td>0.0</td>\n",
       "      <td>0.000000</td>\n",
       "      <td>0.0</td>\n",
       "      <td>0.0</td>\n",
       "      <td>0.0</td>\n",
       "      <td>0.0</td>\n",
       "      <td>...</td>\n",
       "      <td>0.0</td>\n",
       "      <td>0.0</td>\n",
       "      <td>0.0</td>\n",
       "      <td>0.0</td>\n",
       "      <td>0.0</td>\n",
       "      <td>0.000000</td>\n",
       "      <td>0.000000</td>\n",
       "      <td>0.0</td>\n",
       "      <td>0.0</td>\n",
       "      <td>0.0</td>\n",
       "    </tr>\n",
       "    <tr>\n",
       "      <th>2</th>\n",
       "      <td>0.0</td>\n",
       "      <td>0.0</td>\n",
       "      <td>0.00000</td>\n",
       "      <td>0.000000</td>\n",
       "      <td>0.0</td>\n",
       "      <td>0.000000</td>\n",
       "      <td>0.0</td>\n",
       "      <td>0.0</td>\n",
       "      <td>0.0</td>\n",
       "      <td>0.0</td>\n",
       "      <td>...</td>\n",
       "      <td>0.0</td>\n",
       "      <td>0.0</td>\n",
       "      <td>0.0</td>\n",
       "      <td>0.0</td>\n",
       "      <td>0.0</td>\n",
       "      <td>0.000000</td>\n",
       "      <td>0.000000</td>\n",
       "      <td>0.0</td>\n",
       "      <td>0.0</td>\n",
       "      <td>0.0</td>\n",
       "    </tr>\n",
       "    <tr>\n",
       "      <th>3</th>\n",
       "      <td>0.0</td>\n",
       "      <td>0.0</td>\n",
       "      <td>0.00000</td>\n",
       "      <td>0.000000</td>\n",
       "      <td>0.0</td>\n",
       "      <td>0.000000</td>\n",
       "      <td>0.0</td>\n",
       "      <td>0.0</td>\n",
       "      <td>0.0</td>\n",
       "      <td>0.0</td>\n",
       "      <td>...</td>\n",
       "      <td>0.0</td>\n",
       "      <td>0.0</td>\n",
       "      <td>0.0</td>\n",
       "      <td>0.0</td>\n",
       "      <td>0.0</td>\n",
       "      <td>0.000000</td>\n",
       "      <td>0.000000</td>\n",
       "      <td>0.0</td>\n",
       "      <td>0.0</td>\n",
       "      <td>0.0</td>\n",
       "    </tr>\n",
       "    <tr>\n",
       "      <th>4</th>\n",
       "      <td>0.0</td>\n",
       "      <td>0.0</td>\n",
       "      <td>0.00000</td>\n",
       "      <td>1.842709</td>\n",
       "      <td>0.0</td>\n",
       "      <td>0.000000</td>\n",
       "      <td>0.0</td>\n",
       "      <td>0.0</td>\n",
       "      <td>0.0</td>\n",
       "      <td>0.0</td>\n",
       "      <td>...</td>\n",
       "      <td>0.0</td>\n",
       "      <td>0.0</td>\n",
       "      <td>0.0</td>\n",
       "      <td>0.0</td>\n",
       "      <td>0.0</td>\n",
       "      <td>0.000000</td>\n",
       "      <td>0.000000</td>\n",
       "      <td>0.0</td>\n",
       "      <td>0.0</td>\n",
       "      <td>0.0</td>\n",
       "    </tr>\n",
       "  </tbody>\n",
       "</table>\n",
       "<p>5 rows × 1000 columns</p>\n",
       "</div>"
      ],
      "text/plain": [
       "   0    1        2         3    4         5    6    7    8    9    ...  990  \\\n",
       "0  0.0  0.0  3.28894  0.000000  0.0  5.973811  0.0  0.0  0.0  0.0  ...  0.0   \n",
       "1  0.0  0.0  0.00000  2.327156  0.0  0.000000  0.0  0.0  0.0  0.0  ...  0.0   \n",
       "2  0.0  0.0  0.00000  0.000000  0.0  0.000000  0.0  0.0  0.0  0.0  ...  0.0   \n",
       "3  0.0  0.0  0.00000  0.000000  0.0  0.000000  0.0  0.0  0.0  0.0  ...  0.0   \n",
       "4  0.0  0.0  0.00000  1.842709  0.0  0.000000  0.0  0.0  0.0  0.0  ...  0.0   \n",
       "\n",
       "   991  992  993  994       995       996  997  998  999  \n",
       "0  0.0  0.0  0.0  0.0  0.000665  0.000746  0.0  0.0  0.0  \n",
       "1  0.0  0.0  0.0  0.0  0.000000  0.000000  0.0  0.0  0.0  \n",
       "2  0.0  0.0  0.0  0.0  0.000000  0.000000  0.0  0.0  0.0  \n",
       "3  0.0  0.0  0.0  0.0  0.000000  0.000000  0.0  0.0  0.0  \n",
       "4  0.0  0.0  0.0  0.0  0.000000  0.000000  0.0  0.0  0.0  \n",
       "\n",
       "[5 rows x 1000 columns]"
      ]
     },
     "execution_count": 36,
     "metadata": {},
     "output_type": "execute_result"
    }
   ],
   "source": [
    "weights = model_nmf.transform(df_tfidf)\n",
    "pd.DataFrame(weights).head()"
   ]
  },
  {
   "cell_type": "code",
   "execution_count": 37,
   "metadata": {},
   "outputs": [
    {
     "data": {
      "text/plain": [
       "array([ 5,  3, 18, ..., 21, 14,  3])"
      ]
     },
     "execution_count": 37,
     "metadata": {},
     "output_type": "execute_result"
    }
   ],
   "source": [
    "pred = np.argmax(weights, axis = 1)\n",
    "pred"
   ]
  },
  {
   "cell_type": "code",
   "execution_count": 38,
   "metadata": {},
   "outputs": [],
   "source": [
    "# predictions are zero indexed, need to add one to match the y values\n",
    "pred_adjusted = pred + 1"
   ]
  },
  {
   "cell_type": "code",
   "execution_count": 39,
   "metadata": {},
   "outputs": [],
   "source": [
    "def label_compare(y, yp):\n",
    "    '''Function that for all permutations of labels, retruns the best accuracy score and order'''\n",
    "    global best_ordering\n",
    "    unique_labels = np.unique(yp)\n",
    "    best_accuracy = 0.0\n",
    "\n",
    "    for order in permutations(unique_labels):\n",
    "        label_map = {unique_labels[i]: order[i] for i in range(len(unique_labels))}\n",
    "        reordered_yp = np.vectorize(label_map.get)(yp)\n",
    "\n",
    "        current_score = accuracy_score(y, reordered_yp)\n",
    "        if current_score > best_accuracy:\n",
    "            best_accuracy = current_score\n",
    "            best_ordering = order\n",
    "        \n",
    "    return best_accuracy"
   ]
  },
  {
   "cell_type": "code",
   "execution_count": 40,
   "metadata": {},
   "outputs": [
    {
     "ename": "KeyboardInterrupt",
     "evalue": "",
     "output_type": "error",
     "traceback": [
      "\u001b[0;31m---------------------------------------------------------------------------\u001b[0m",
      "\u001b[0;31mKeyboardInterrupt\u001b[0m                         Traceback (most recent call last)",
      "Cell \u001b[0;32mIn[40], line 1\u001b[0m\n\u001b[0;32m----> 1\u001b[0m \u001b[38;5;28mprint\u001b[39m(\u001b[38;5;124mf\u001b[39m\u001b[38;5;124m'\u001b[39m\u001b[38;5;124mThe best accuracy achieved with random hyperparameters for the NMF model is: \u001b[39m\u001b[38;5;132;01m{\u001b[39;00m\u001b[43mlabel_compare\u001b[49m\u001b[43m(\u001b[49m\u001b[43my\u001b[49m\u001b[43m,\u001b[49m\u001b[38;5;250;43m \u001b[39;49m\u001b[43mpred_adjusted\u001b[49m\u001b[43m)\u001b[49m\u001b[38;5;132;01m}\u001b[39;00m\u001b[38;5;124m'\u001b[39m)\n",
      "Cell \u001b[0;32mIn[39], line 11\u001b[0m, in \u001b[0;36mlabel_compare\u001b[0;34m(y, yp)\u001b[0m\n\u001b[1;32m      8\u001b[0m label_map \u001b[38;5;241m=\u001b[39m {unique_labels[i]: order[i] \u001b[38;5;28;01mfor\u001b[39;00m i \u001b[38;5;129;01min\u001b[39;00m \u001b[38;5;28mrange\u001b[39m(\u001b[38;5;28mlen\u001b[39m(unique_labels))}\n\u001b[1;32m      9\u001b[0m reordered_yp \u001b[38;5;241m=\u001b[39m np\u001b[38;5;241m.\u001b[39mvectorize(label_map\u001b[38;5;241m.\u001b[39mget)(yp)\n\u001b[0;32m---> 11\u001b[0m current_score \u001b[38;5;241m=\u001b[39m \u001b[43maccuracy_score\u001b[49m\u001b[43m(\u001b[49m\u001b[43my\u001b[49m\u001b[43m,\u001b[49m\u001b[43m \u001b[49m\u001b[43mreordered_yp\u001b[49m\u001b[43m)\u001b[49m\n\u001b[1;32m     12\u001b[0m \u001b[38;5;28;01mif\u001b[39;00m current_score \u001b[38;5;241m>\u001b[39m best_accuracy:\n\u001b[1;32m     13\u001b[0m     best_accuracy \u001b[38;5;241m=\u001b[39m current_score\n",
      "File \u001b[0;32m~/Desktop/code/customer_reviews/.venv/lib/python3.12/site-packages/sklearn/utils/_param_validation.py:213\u001b[0m, in \u001b[0;36mvalidate_params.<locals>.decorator.<locals>.wrapper\u001b[0;34m(*args, **kwargs)\u001b[0m\n\u001b[1;32m    207\u001b[0m \u001b[38;5;28;01mtry\u001b[39;00m:\n\u001b[1;32m    208\u001b[0m     \u001b[38;5;28;01mwith\u001b[39;00m config_context(\n\u001b[1;32m    209\u001b[0m         skip_parameter_validation\u001b[38;5;241m=\u001b[39m(\n\u001b[1;32m    210\u001b[0m             prefer_skip_nested_validation \u001b[38;5;129;01mor\u001b[39;00m global_skip_validation\n\u001b[1;32m    211\u001b[0m         )\n\u001b[1;32m    212\u001b[0m     ):\n\u001b[0;32m--> 213\u001b[0m         \u001b[38;5;28;01mreturn\u001b[39;00m \u001b[43mfunc\u001b[49m\u001b[43m(\u001b[49m\u001b[38;5;241;43m*\u001b[39;49m\u001b[43margs\u001b[49m\u001b[43m,\u001b[49m\u001b[43m \u001b[49m\u001b[38;5;241;43m*\u001b[39;49m\u001b[38;5;241;43m*\u001b[39;49m\u001b[43mkwargs\u001b[49m\u001b[43m)\u001b[49m\n\u001b[1;32m    214\u001b[0m \u001b[38;5;28;01mexcept\u001b[39;00m InvalidParameterError \u001b[38;5;28;01mas\u001b[39;00m e:\n\u001b[1;32m    215\u001b[0m     \u001b[38;5;66;03m# When the function is just a wrapper around an estimator, we allow\u001b[39;00m\n\u001b[1;32m    216\u001b[0m     \u001b[38;5;66;03m# the function to delegate validation to the estimator, but we replace\u001b[39;00m\n\u001b[1;32m    217\u001b[0m     \u001b[38;5;66;03m# the name of the estimator by the name of the function in the error\u001b[39;00m\n\u001b[1;32m    218\u001b[0m     \u001b[38;5;66;03m# message to avoid confusion.\u001b[39;00m\n\u001b[1;32m    219\u001b[0m     msg \u001b[38;5;241m=\u001b[39m re\u001b[38;5;241m.\u001b[39msub(\n\u001b[1;32m    220\u001b[0m         \u001b[38;5;124mr\u001b[39m\u001b[38;5;124m\"\u001b[39m\u001b[38;5;124mparameter of \u001b[39m\u001b[38;5;124m\\\u001b[39m\u001b[38;5;124mw+ must be\u001b[39m\u001b[38;5;124m\"\u001b[39m,\n\u001b[1;32m    221\u001b[0m         \u001b[38;5;124mf\u001b[39m\u001b[38;5;124m\"\u001b[39m\u001b[38;5;124mparameter of \u001b[39m\u001b[38;5;132;01m{\u001b[39;00mfunc\u001b[38;5;241m.\u001b[39m\u001b[38;5;18m__qualname__\u001b[39m\u001b[38;5;132;01m}\u001b[39;00m\u001b[38;5;124m must be\u001b[39m\u001b[38;5;124m\"\u001b[39m,\n\u001b[1;32m    222\u001b[0m         \u001b[38;5;28mstr\u001b[39m(e),\n\u001b[1;32m    223\u001b[0m     )\n",
      "File \u001b[0;32m~/Desktop/code/customer_reviews/.venv/lib/python3.12/site-packages/sklearn/metrics/_classification.py:231\u001b[0m, in \u001b[0;36maccuracy_score\u001b[0;34m(y_true, y_pred, normalize, sample_weight)\u001b[0m\n\u001b[1;32m    229\u001b[0m xp, _, device \u001b[38;5;241m=\u001b[39m get_namespace_and_device(y_true, y_pred, sample_weight)\n\u001b[1;32m    230\u001b[0m \u001b[38;5;66;03m# Compute accuracy for each possible representation\u001b[39;00m\n\u001b[0;32m--> 231\u001b[0m y_type, y_true, y_pred \u001b[38;5;241m=\u001b[39m \u001b[43m_check_targets\u001b[49m\u001b[43m(\u001b[49m\u001b[43my_true\u001b[49m\u001b[43m,\u001b[49m\u001b[43m \u001b[49m\u001b[43my_pred\u001b[49m\u001b[43m)\u001b[49m\n\u001b[1;32m    232\u001b[0m check_consistent_length(y_true, y_pred, sample_weight)\n\u001b[1;32m    233\u001b[0m \u001b[38;5;28;01mif\u001b[39;00m y_type\u001b[38;5;241m.\u001b[39mstartswith(\u001b[38;5;124m\"\u001b[39m\u001b[38;5;124mmultilabel\u001b[39m\u001b[38;5;124m\"\u001b[39m):\n",
      "File \u001b[0;32m~/Desktop/code/customer_reviews/.venv/lib/python3.12/site-packages/sklearn/metrics/_classification.py:105\u001b[0m, in \u001b[0;36m_check_targets\u001b[0;34m(y_true, y_pred)\u001b[0m\n\u001b[1;32m    103\u001b[0m check_consistent_length(y_true, y_pred)\n\u001b[1;32m    104\u001b[0m type_true \u001b[38;5;241m=\u001b[39m type_of_target(y_true, input_name\u001b[38;5;241m=\u001b[39m\u001b[38;5;124m\"\u001b[39m\u001b[38;5;124my_true\u001b[39m\u001b[38;5;124m\"\u001b[39m)\n\u001b[0;32m--> 105\u001b[0m type_pred \u001b[38;5;241m=\u001b[39m \u001b[43mtype_of_target\u001b[49m\u001b[43m(\u001b[49m\u001b[43my_pred\u001b[49m\u001b[43m,\u001b[49m\u001b[43m \u001b[49m\u001b[43minput_name\u001b[49m\u001b[38;5;241;43m=\u001b[39;49m\u001b[38;5;124;43m\"\u001b[39;49m\u001b[38;5;124;43my_pred\u001b[39;49m\u001b[38;5;124;43m\"\u001b[39;49m\u001b[43m)\u001b[49m\n\u001b[1;32m    107\u001b[0m y_type \u001b[38;5;241m=\u001b[39m {type_true, type_pred}\n\u001b[1;32m    108\u001b[0m \u001b[38;5;28;01mif\u001b[39;00m y_type \u001b[38;5;241m==\u001b[39m {\u001b[38;5;124m\"\u001b[39m\u001b[38;5;124mbinary\u001b[39m\u001b[38;5;124m\"\u001b[39m, \u001b[38;5;124m\"\u001b[39m\u001b[38;5;124mmulticlass\u001b[39m\u001b[38;5;124m\"\u001b[39m}:\n",
      "File \u001b[0;32m~/Desktop/code/customer_reviews/.venv/lib/python3.12/site-packages/sklearn/utils/multiclass.py:226\u001b[0m, in \u001b[0;36mtype_of_target\u001b[0;34m(y, input_name)\u001b[0m\n\u001b[1;32m    212\u001b[0m     \u001b[38;5;28;01mif\u001b[39;00m y_type \u001b[38;5;129;01mnot\u001b[39;00m \u001b[38;5;129;01min\u001b[39;00m [\n\u001b[1;32m    213\u001b[0m         \u001b[38;5;124m\"\u001b[39m\u001b[38;5;124mbinary\u001b[39m\u001b[38;5;124m\"\u001b[39m,\n\u001b[1;32m    214\u001b[0m         \u001b[38;5;124m\"\u001b[39m\u001b[38;5;124mmulticlass\u001b[39m\u001b[38;5;124m\"\u001b[39m,\n\u001b[0;32m   (...)\u001b[0m\n\u001b[1;32m    217\u001b[0m         \u001b[38;5;124m\"\u001b[39m\u001b[38;5;124mmultilabel-sequences\u001b[39m\u001b[38;5;124m\"\u001b[39m,\n\u001b[1;32m    218\u001b[0m     ]:\n\u001b[1;32m    219\u001b[0m         \u001b[38;5;28;01mraise\u001b[39;00m \u001b[38;5;167;01mValueError\u001b[39;00m(\n\u001b[1;32m    220\u001b[0m             \u001b[38;5;124mf\u001b[39m\u001b[38;5;124m\"\u001b[39m\u001b[38;5;124mUnknown label type: \u001b[39m\u001b[38;5;132;01m{\u001b[39;00my_type\u001b[38;5;132;01m}\u001b[39;00m\u001b[38;5;124m. Maybe you are trying to fit a \u001b[39m\u001b[38;5;124m\"\u001b[39m\n\u001b[1;32m    221\u001b[0m             \u001b[38;5;124m\"\u001b[39m\u001b[38;5;124mclassifier, which expects discrete classes on a \u001b[39m\u001b[38;5;124m\"\u001b[39m\n\u001b[1;32m    222\u001b[0m             \u001b[38;5;124m\"\u001b[39m\u001b[38;5;124mregression target with continuous values.\u001b[39m\u001b[38;5;124m\"\u001b[39m\n\u001b[1;32m    223\u001b[0m         )\n\u001b[0;32m--> 226\u001b[0m \u001b[38;5;28;01mdef\u001b[39;00m \u001b[38;5;21mtype_of_target\u001b[39m(y, input_name\u001b[38;5;241m=\u001b[39m\u001b[38;5;124m\"\u001b[39m\u001b[38;5;124m\"\u001b[39m):\n\u001b[1;32m    227\u001b[0m \u001b[38;5;250m    \u001b[39m\u001b[38;5;124;03m\"\"\"Determine the type of data indicated by the target.\u001b[39;00m\n\u001b[1;32m    228\u001b[0m \n\u001b[1;32m    229\u001b[0m \u001b[38;5;124;03m    Note that this type is the most specific type that can be inferred.\u001b[39;00m\n\u001b[0;32m   (...)\u001b[0m\n\u001b[1;32m    296\u001b[0m \u001b[38;5;124;03m    'multilabel-indicator'\u001b[39;00m\n\u001b[1;32m    297\u001b[0m \u001b[38;5;124;03m    \"\"\"\u001b[39;00m\n\u001b[1;32m    298\u001b[0m     xp, is_array_api_compliant \u001b[38;5;241m=\u001b[39m get_namespace(y)\n",
      "\u001b[0;31mKeyboardInterrupt\u001b[0m: "
     ]
    }
   ],
   "source": [
    "print(f'The best accuracy achieved with random hyperparameters for the NMF model is: {label_compare(y, pred_adjusted)}')"
   ]
  },
  {
   "cell_type": "code",
   "execution_count": null,
   "metadata": {},
   "outputs": [],
   "source": [
    "pred[:10]"
   ]
  },
  {
   "cell_type": "code",
   "execution_count": null,
   "metadata": {},
   "outputs": [],
   "source": [
    "y[:10]"
   ]
  },
  {
   "cell_type": "code",
   "execution_count": null,
   "metadata": {},
   "outputs": [],
   "source": [
    "labels = np.unique(pred_adjusted)\n",
    "label_map = dict(zip(labels, best_ordering))\n",
    "reorder_yp = np.array([label_map[lbl] for lbl in pred_adjusted])"
   ]
  },
  {
   "cell_type": "code",
   "execution_count": null,
   "metadata": {},
   "outputs": [],
   "source": [
    "labels"
   ]
  },
  {
   "cell_type": "code",
   "execution_count": null,
   "metadata": {},
   "outputs": [],
   "source": [
    "best_ordering"
   ]
  },
  {
   "cell_type": "code",
   "execution_count": null,
   "metadata": {},
   "outputs": [],
   "source": [
    "reorder_yp"
   ]
  },
  {
   "cell_type": "code",
   "execution_count": null,
   "metadata": {},
   "outputs": [],
   "source": [
    "label_names = english_reviews_train['RATING'].unique().tolist()\n",
    "l = pd.Index(label_names)\n",
    "cm = pd.crosstab(y, reorder_yp)\n",
    "# cm = pd.crosstab(l[y], l[reorder_yp])\n",
    "\n",
    "plt.figure(figsize=(10, 4))\n",
    "sns.heatmap(cm, annot=True, square=True, cmap='Reds', fmt='.0f', cbar=False)\n",
    "plt.title('NMF random model confusion matrix', fontsize = 12)\n",
    "plt.xlabel('Predicted', fontsize=12)\n",
    "plt.ylabel('Actual', fontsize=12)\n",
    "plt.xticks(rotation=20, fontsize=8)\n",
    "plt.yticks(fontsize=8)"
   ]
  },
  {
   "cell_type": "code",
   "execution_count": null,
   "metadata": {},
   "outputs": [],
   "source": [
    "def custom_scoring(estimator, X, y):\n",
    "    'Creating a scoring function to be used in our GridSearchCV'\n",
    "    W = estimator.transform(X)\n",
    "    predictions = np.argmax(W, axis=1)\n",
    "    return label_compare(y, predictions)"
   ]
  },
  {
   "cell_type": "code",
   "execution_count": null,
   "metadata": {},
   "outputs": [],
   "source": [
    "pipe = Pipeline([\n",
    "    ('tfidfvectorizer', TfidfVectorizer(ngram_range =(1,2), stop_words = 'english', max_features = 1000)),\n",
    "    ( 'nmf', NMF(n_components = 5, init = 'random', beta_loss = 'frobenius'))\n",
    "])\n",
    "\n",
    "params = [{\n",
    "    # 'tfidfvectorizer__ngram_range': [(1, 2)],\n",
    "    'tfidfvectorizer__min_df': [1, 2, 3],\n",
    "    'nmf__alpha_W': [0, .01, .02],\n",
    "    'nmf__alpha_H': [0, .01, .02]\n",
    "}]"
   ]
  },
  {
   "cell_type": "code",
   "execution_count": null,
   "metadata": {},
   "outputs": [],
   "source": [
    "grid = GridSearchCV(pipe, param_grid = params, scoring = custom_scoring, cv = 10)\n",
    "x = english_reviews_train['REVIEW_TEXT']\n",
    "y = english_reviews_train['RATING']\n",
    "grid.fit(x, y)"
   ]
  },
  {
   "cell_type": "code",
   "execution_count": null,
   "metadata": {},
   "outputs": [],
   "source": [
    "cv_results = pd.DataFrame(grid.cv_results_).sort_values(by='mean_test_score')\n",
    "pd.set_option('display.max_colwidth', None)\n",
    "cv_results[['mean_fit_time', 'params', 'mean_test_score', 'rank_test_score']].sort_values(by='rank_test_score').iloc[:10]"
   ]
  },
  {
   "cell_type": "code",
   "execution_count": null,
   "metadata": {},
   "outputs": [],
   "source": []
  }
 ],
 "metadata": {
  "kernelspec": {
   "display_name": ".venv",
   "language": "python",
   "name": "python3"
  },
  "language_info": {
   "codemirror_mode": {
    "name": "ipython",
    "version": 3
   },
   "file_extension": ".py",
   "mimetype": "text/x-python",
   "name": "python",
   "nbconvert_exporter": "python",
   "pygments_lexer": "ipython3",
   "version": "3.12.3"
  }
 },
 "nbformat": 4,
 "nbformat_minor": 2
}

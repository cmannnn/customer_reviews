{
 "cells": [
  {
   "cell_type": "markdown",
   "metadata": {},
   "source": [
    "# DTSA 5510 Final Project"
   ]
  },
  {
   "cell_type": "markdown",
   "metadata": {},
   "source": [
    "## Imports"
   ]
  },
  {
   "cell_type": "code",
   "execution_count": 1,
   "metadata": {},
   "outputs": [],
   "source": [
    "import pandas as pd\n",
    "import matplotlib.pyplot as plt\n",
    "import numpy as np\n",
    "import seaborn as sns\n",
    "from itertools import permutations\n",
    "\n",
    "# old imports\n",
    "from sklearn.model_selection import train_test_split, GridSearchCV, KFold, cross_val_score\n",
    "from sklearn.feature_extraction.text import TfidfVectorizer\n",
    "from sklearn.decomposition import NMF\n",
    "from sklearn.pipeline import Pipeline\n",
    "from sklearn.metrics import accuracy_score\n",
    "\n",
    "# latest imports\n",
    "from sklearn.feature_extraction.text import CountVectorizer\n",
    "from nltk.tokenize import RegexpTokenizer\n",
    "from sklearn.naive_bayes import MultinomialNB\n",
    "from sklearn.linear_model import SGDClassifier\n",
    "from sklearn.metrics import confusion_matrix, ConfusionMatrixDisplay\n",
    "\n",
    "from langdetect import detect\n",
    "\n",
    "from textblob import TextBlob"
   ]
  },
  {
   "cell_type": "markdown",
   "metadata": {},
   "source": [
    "## Data import"
   ]
  },
  {
   "cell_type": "code",
   "execution_count": 2,
   "metadata": {},
   "outputs": [],
   "source": [
    "# data import\n",
    "reviews = pd.read_csv('data/reviews.csv')"
   ]
  },
  {
   "cell_type": "markdown",
   "metadata": {},
   "source": [
    "# Basic data cleaning"
   ]
  },
  {
   "cell_type": "code",
   "execution_count": 3,
   "metadata": {},
   "outputs": [
    {
     "data": {
      "text/html": [
       "<div>\n",
       "<style scoped>\n",
       "    .dataframe tbody tr th:only-of-type {\n",
       "        vertical-align: middle;\n",
       "    }\n",
       "\n",
       "    .dataframe tbody tr th {\n",
       "        vertical-align: top;\n",
       "    }\n",
       "\n",
       "    .dataframe thead th {\n",
       "        text-align: right;\n",
       "    }\n",
       "</style>\n",
       "<table border=\"1\" class=\"dataframe\">\n",
       "  <thead>\n",
       "    <tr style=\"text-align: right;\">\n",
       "      <th></th>\n",
       "      <th>ID</th>\n",
       "      <th>REVIEW_DATE</th>\n",
       "      <th>IS_VERIFIED</th>\n",
       "      <th>RATING</th>\n",
       "      <th>REVIEW_TITLE</th>\n",
       "      <th>REVIEW_TEXT</th>\n",
       "      <th>NAME</th>\n",
       "    </tr>\n",
       "  </thead>\n",
       "  <tbody>\n",
       "    <tr>\n",
       "      <th>4298</th>\n",
       "      <td>3093928</td>\n",
       "      <td>2022-08-13</td>\n",
       "      <td>True</td>\n",
       "      <td>5</td>\n",
       "      <td>Excellent quality with all the B vitamins!</td>\n",
       "      <td>Excellent quality B complex pills! Have used t...</td>\n",
       "      <td>United States</td>\n",
       "    </tr>\n",
       "    <tr>\n",
       "      <th>4549</th>\n",
       "      <td>8651042</td>\n",
       "      <td>2023-11-04</td>\n",
       "      <td>True</td>\n",
       "      <td>5</td>\n",
       "      <td>A little goes a long way,It's a must have in y...</td>\n",
       "      <td>I like I do not have to use much and  it last ...</td>\n",
       "      <td>United States</td>\n",
       "    </tr>\n",
       "    <tr>\n",
       "      <th>148</th>\n",
       "      <td>6941253</td>\n",
       "      <td>2014-04-15</td>\n",
       "      <td>True</td>\n",
       "      <td>5</td>\n",
       "      <td>Love, love</td>\n",
       "      <td>I have researched and read reviews of many tra...</td>\n",
       "      <td>United States</td>\n",
       "    </tr>\n",
       "    <tr>\n",
       "      <th>6326</th>\n",
       "      <td>6980065</td>\n",
       "      <td>2019-08-23</td>\n",
       "      <td>True</td>\n",
       "      <td>5</td>\n",
       "      <td>⭐️Love this spray!⭐️</td>\n",
       "      <td>I love this stuff! My hair started turning whi...</td>\n",
       "      <td>United States</td>\n",
       "    </tr>\n",
       "    <tr>\n",
       "      <th>5536</th>\n",
       "      <td>7973147</td>\n",
       "      <td>2023-08-12</td>\n",
       "      <td>True</td>\n",
       "      <td>1</td>\n",
       "      <td>The description says it’s 14oz but it’s actual...</td>\n",
       "      <td>Tempted to return this because of the wrong info.</td>\n",
       "      <td>United States</td>\n",
       "    </tr>\n",
       "  </tbody>\n",
       "</table>\n",
       "</div>"
      ],
      "text/plain": [
       "           ID REVIEW_DATE  IS_VERIFIED  RATING  \\\n",
       "4298  3093928  2022-08-13         True       5   \n",
       "4549  8651042  2023-11-04         True       5   \n",
       "148   6941253  2014-04-15         True       5   \n",
       "6326  6980065  2019-08-23         True       5   \n",
       "5536  7973147  2023-08-12         True       1   \n",
       "\n",
       "                                           REVIEW_TITLE  \\\n",
       "4298         Excellent quality with all the B vitamins!   \n",
       "4549  A little goes a long way,It's a must have in y...   \n",
       "148                                          Love, love   \n",
       "6326                               ⭐️Love this spray!⭐️   \n",
       "5536  The description says it’s 14oz but it’s actual...   \n",
       "\n",
       "                                            REVIEW_TEXT           NAME  \n",
       "4298  Excellent quality B complex pills! Have used t...  United States  \n",
       "4549  I like I do not have to use much and  it last ...  United States  \n",
       "148   I have researched and read reviews of many tra...  United States  \n",
       "6326  I love this stuff! My hair started turning whi...  United States  \n",
       "5536  Tempted to return this because of the wrong info.  United States  "
      ]
     },
     "execution_count": 3,
     "metadata": {},
     "output_type": "execute_result"
    }
   ],
   "source": [
    "# here is an initial view of a sample of rows in the dataset\n",
    "reviews.sample(5)"
   ]
  },
  {
   "cell_type": "code",
   "execution_count": 4,
   "metadata": {},
   "outputs": [],
   "source": [
    "# From the sample dataframe above, the 'NAME' field is misleading, it will be changed from 'NAME' to 'COUNTRY'\n",
    "reviews.rename(columns={'NAME': 'COUNTRY'}, inplace = True)"
   ]
  },
  {
   "cell_type": "code",
   "execution_count": 5,
   "metadata": {},
   "outputs": [
    {
     "name": "stdout",
     "output_type": "stream",
     "text": [
      "<class 'pandas.core.frame.DataFrame'>\n",
      "RangeIndex: 10000 entries, 0 to 9999\n",
      "Data columns (total 7 columns):\n",
      " #   Column        Non-Null Count  Dtype \n",
      "---  ------        --------------  ----- \n",
      " 0   ID            10000 non-null  int64 \n",
      " 1   REVIEW_DATE   10000 non-null  object\n",
      " 2   IS_VERIFIED   10000 non-null  bool  \n",
      " 3   RATING        10000 non-null  int64 \n",
      " 4   REVIEW_TITLE  9999 non-null   object\n",
      " 5   REVIEW_TEXT   10000 non-null  object\n",
      " 6   COUNTRY       10000 non-null  object\n",
      "dtypes: bool(1), int64(2), object(4)\n",
      "memory usage: 478.6+ KB\n"
     ]
    }
   ],
   "source": [
    "# there are 10,000 reviews in our initial dataset.\n",
    "# The 'REVIEW_TITLE' column has one null entry which we will remove in a subsequent cell\n",
    "reviews.info()"
   ]
  },
  {
   "cell_type": "code",
   "execution_count": 6,
   "metadata": {},
   "outputs": [],
   "source": [
    "# Identifying the only row with a null value. Since we really care about the 'REVIEW_TEXT'\n",
    "# this row could probably be left in but I will remove it just to be safe\n",
    "reviews[reviews['REVIEW_TITLE'].isnull()]\n",
    "reviews.dropna(subset = ['REVIEW_TITLE'], axis = 0, inplace = True)"
   ]
  },
  {
   "cell_type": "code",
   "execution_count": 7,
   "metadata": {},
   "outputs": [
    {
     "data": {
      "text/plain": [
       "ID              0\n",
       "REVIEW_DATE     0\n",
       "IS_VERIFIED     0\n",
       "RATING          0\n",
       "REVIEW_TITLE    0\n",
       "REVIEW_TEXT     0\n",
       "COUNTRY         0\n",
       "dtype: int64"
      ]
     },
     "execution_count": 7,
     "metadata": {},
     "output_type": "execute_result"
    }
   ],
   "source": [
    "# double checking that there are no more null values in the updated dataset\n",
    "reviews.isnull().sum()"
   ]
  },
  {
   "cell_type": "code",
   "execution_count": 8,
   "metadata": {},
   "outputs": [
    {
     "data": {
      "text/html": [
       "<div>\n",
       "<style scoped>\n",
       "    .dataframe tbody tr th:only-of-type {\n",
       "        vertical-align: middle;\n",
       "    }\n",
       "\n",
       "    .dataframe tbody tr th {\n",
       "        vertical-align: top;\n",
       "    }\n",
       "\n",
       "    .dataframe thead th {\n",
       "        text-align: right;\n",
       "    }\n",
       "</style>\n",
       "<table border=\"1\" class=\"dataframe\">\n",
       "  <thead>\n",
       "    <tr style=\"text-align: right;\">\n",
       "      <th></th>\n",
       "      <th>ID</th>\n",
       "      <th>REVIEW_DATE</th>\n",
       "      <th>IS_VERIFIED</th>\n",
       "      <th>RATING</th>\n",
       "      <th>REVIEW_TITLE</th>\n",
       "      <th>REVIEW_TEXT</th>\n",
       "      <th>COUNTRY</th>\n",
       "    </tr>\n",
       "  </thead>\n",
       "  <tbody>\n",
       "    <tr>\n",
       "      <th>0</th>\n",
       "      <td>3129911</td>\n",
       "      <td>2022-08-17</td>\n",
       "      <td>True</td>\n",
       "      <td>1</td>\n",
       "      <td>This has NO flavor</td>\n",
       "      <td>This item has no flavor, several people have t...</td>\n",
       "      <td>United States</td>\n",
       "    </tr>\n",
       "    <tr>\n",
       "      <th>1</th>\n",
       "      <td>2702184</td>\n",
       "      <td>2022-06-07</td>\n",
       "      <td>True</td>\n",
       "      <td>1</td>\n",
       "      <td>Different formula</td>\n",
       "      <td>I have used this brand of sunscreen for about ...</td>\n",
       "      <td>United States</td>\n",
       "    </tr>\n",
       "    <tr>\n",
       "      <th>2</th>\n",
       "      <td>760128</td>\n",
       "      <td>2014-06-03</td>\n",
       "      <td>True</td>\n",
       "      <td>5</td>\n",
       "      <td>Vitex!!!</td>\n",
       "      <td>Have been using these for at least 20 months a...</td>\n",
       "      <td>United States</td>\n",
       "    </tr>\n",
       "    <tr>\n",
       "      <th>3</th>\n",
       "      <td>760140</td>\n",
       "      <td>2013-11-24</td>\n",
       "      <td>True</td>\n",
       "      <td>5</td>\n",
       "      <td>Stopping hair loss</td>\n",
       "      <td>Bought this to help fight hair loss along with...</td>\n",
       "      <td>United States</td>\n",
       "    </tr>\n",
       "    <tr>\n",
       "      <th>4</th>\n",
       "      <td>760132</td>\n",
       "      <td>2014-04-10</td>\n",
       "      <td>True</td>\n",
       "      <td>5</td>\n",
       "      <td>coming off of birth control</td>\n",
       "      <td>this company is one of the best most honest i'...</td>\n",
       "      <td>United States</td>\n",
       "    </tr>\n",
       "  </tbody>\n",
       "</table>\n",
       "</div>"
      ],
      "text/plain": [
       "        ID REVIEW_DATE  IS_VERIFIED  RATING                 REVIEW_TITLE  \\\n",
       "0  3129911  2022-08-17         True       1           This has NO flavor   \n",
       "1  2702184  2022-06-07         True       1            Different formula   \n",
       "2   760128  2014-06-03         True       5                     Vitex!!!   \n",
       "3   760140  2013-11-24         True       5           Stopping hair loss   \n",
       "4   760132  2014-04-10         True       5  coming off of birth control   \n",
       "\n",
       "                                         REVIEW_TEXT        COUNTRY  \n",
       "0  This item has no flavor, several people have t...  United States  \n",
       "1  I have used this brand of sunscreen for about ...  United States  \n",
       "2  Have been using these for at least 20 months a...  United States  \n",
       "3  Bought this to help fight hair loss along with...  United States  \n",
       "4  this company is one of the best most honest i'...  United States  "
      ]
     },
     "execution_count": 8,
     "metadata": {},
     "output_type": "execute_result"
    }
   ],
   "source": [
    "reviews.head()"
   ]
  },
  {
   "cell_type": "code",
   "execution_count": 9,
   "metadata": {},
   "outputs": [],
   "source": [
    "# There are two more adjustments that need to be made. The 'REVIEW_DATE' column should be a datetime\n",
    "# also the 'ID' field should be an object\n",
    "reviews['REVIEW_DATE'] = pd.to_datetime(reviews['REVIEW_DATE'])\n",
    "reviews['ID'] = reviews['ID'].astype(object)"
   ]
  },
  {
   "cell_type": "markdown",
   "metadata": {},
   "source": [
    "## Removing non-english reviews"
   ]
  },
  {
   "cell_type": "markdown",
   "metadata": {},
   "source": [
    "There is another issue that will impact our results later on in the model testing phase. Even though these reviews are sourced from Amazon.com, there are reviews that are in different languages. A mask will be created to filter our all non English reviews."
   ]
  },
  {
   "cell_type": "code",
   "execution_count": 10,
   "metadata": {},
   "outputs": [],
   "source": [
    "# The langdetect package can be used to detect the language of a body of text.\n",
    "# the package can then be used in a basic function to return the particular language of the review.\n",
    "def detect_language(text):\n",
    "    try:\n",
    "        lang = detect(text)\n",
    "    except:\n",
    "        lang = 'unknown'\n",
    "    return lang"
   ]
  },
  {
   "cell_type": "code",
   "execution_count": 11,
   "metadata": {},
   "outputs": [],
   "source": [
    "# Running the 'REVIEW_TEXT' column of our dataset through the detect_language function from above\n",
    "reviews['LANGUAGE'] = reviews['REVIEW_TEXT'].apply(detect_language)"
   ]
  },
  {
   "cell_type": "code",
   "execution_count": 12,
   "metadata": {},
   "outputs": [
    {
     "data": {
      "text/plain": [
       "LANGUAGE\n",
       "en         9603\n",
       "es          104\n",
       "de           75\n",
       "ja           63\n",
       "fr           57\n",
       "it           35\n",
       "pt           11\n",
       "no            9\n",
       "af            8\n",
       "ca            6\n",
       "so            6\n",
       "ro            6\n",
       "nl            4\n",
       "et            2\n",
       "da            2\n",
       "id            2\n",
       "sl            2\n",
       "unknown       1\n",
       "tl            1\n",
       "cy            1\n",
       "tr            1\n",
       "Name: count, dtype: int64"
      ]
     },
     "execution_count": 12,
     "metadata": {},
     "output_type": "execute_result"
    }
   ],
   "source": [
    "# Here are the results of the  we can see that there are \n",
    "reviews['LANGUAGE'].value_counts()"
   ]
  },
  {
   "cell_type": "code",
   "execution_count": 13,
   "metadata": {},
   "outputs": [
    {
     "data": {
      "text/plain": [
       "1925    Está muito diferente do normal. É o segundo Whey Protein Gold Standard de Baunilha que compro com este vendedor. O primeiro estava ok. Esse no entanto tem como data de vencimento Agosto de 2023, e o produto está com características estranhas, não possui a mesma viscosidade e o mesmo sabor. Se eu não conseguir substituir terei que jogar fora, pois me parece impróprio para ser consumido.\n",
       "Name: REVIEW_TEXT, dtype: object"
      ]
     },
     "execution_count": 13,
     "metadata": {},
     "output_type": "execute_result"
    }
   ],
   "source": [
    "# Example of a portuguese review in the dataset\n",
    "pd.set_option('display.max_colwidth', None)\n",
    "reviews['REVIEW_TEXT'][reviews['LANGUAGE'] == 'pt'].head(1)"
   ]
  },
  {
   "cell_type": "code",
   "execution_count": 14,
   "metadata": {},
   "outputs": [],
   "source": [
    "english_mask = reviews['LANGUAGE'] == 'en'\n",
    "english_reviews = reviews[english_mask]"
   ]
  },
  {
   "cell_type": "code",
   "execution_count": 15,
   "metadata": {},
   "outputs": [
    {
     "name": "stderr",
     "output_type": "stream",
     "text": [
      "/var/folders/lr/994tkpld58q9sbf0jsds90h80000gn/T/ipykernel_6500/1936066079.py:1: SettingWithCopyWarning: \n",
      "A value is trying to be set on a copy of a slice from a DataFrame.\n",
      "Try using .loc[row_indexer,col_indexer] = value instead\n",
      "\n",
      "See the caveats in the documentation: https://pandas.pydata.org/pandas-docs/stable/user_guide/indexing.html#returning-a-view-versus-a-copy\n",
      "  english_reviews['word_count'] = english_reviews['REVIEW_TEXT'].apply(lambda x: len(x.split()))\n"
     ]
    }
   ],
   "source": [
    "english_reviews['word_count'] = english_reviews['REVIEW_TEXT'].apply(lambda x: len(x.split()))"
   ]
  },
  {
   "cell_type": "markdown",
   "metadata": {},
   "source": [
    "## Visualizations"
   ]
  },
  {
   "cell_type": "code",
   "execution_count": 16,
   "metadata": {},
   "outputs": [
    {
     "data": {
      "image/png": "[encoded data removed]",
      "text/plain": [
       "<Figure size 2500x1000 with 1 Axes>"
      ]
     },
     "metadata": {},
     "output_type": "display_data"
    }
   ],
   "source": [
    "plt.style.use('fivethirtyeight')\n",
    "fix, ax = plt.subplots(figsize = (25, 10))\n",
    "\n",
    "ratings = reviews['RATING'].value_counts()\n",
    "ind = reviews['RATING'].unique()\n",
    "\n",
    "plt.bar(ind, ratings, color = 'firebrick', align = 'center')\n",
    "\n",
    "for p in ax.patches:\n",
    "    ax.text(p.get_x() + p.get_width() / 2,\n",
    "            p.get_height(),\n",
    "            '{:.0f}'.format(p.get_height()),\n",
    "            ha='center',\n",
    "            va='bottom'\n",
    "           )\n",
    "\n",
    "plt.title('Count of Ratings')\n",
    "plt.xlabel('Rating')\n",
    "plt.ylabel('Count')\n",
    "plt.show()"
   ]
  },
  {
   "cell_type": "code",
   "execution_count": 17,
   "metadata": {},
   "outputs": [],
   "source": [
    "# dataset is unbalanced, but that is ok in our context as we will not be exploring the relationship between variables, just the underlying text"
   ]
  },
  {
   "cell_type": "code",
   "execution_count": 18,
   "metadata": {},
   "outputs": [
    {
     "data": {
      "text/html": [
       "<div>\n",
       "<style scoped>\n",
       "    .dataframe tbody tr th:only-of-type {\n",
       "        vertical-align: middle;\n",
       "    }\n",
       "\n",
       "    .dataframe tbody tr th {\n",
       "        vertical-align: top;\n",
       "    }\n",
       "\n",
       "    .dataframe thead th {\n",
       "        text-align: right;\n",
       "    }\n",
       "</style>\n",
       "<table border=\"1\" class=\"dataframe\">\n",
       "  <thead>\n",
       "    <tr style=\"text-align: right;\">\n",
       "      <th></th>\n",
       "      <th>ID</th>\n",
       "      <th>REVIEW_DATE</th>\n",
       "      <th>IS_VERIFIED</th>\n",
       "      <th>RATING</th>\n",
       "      <th>REVIEW_TITLE</th>\n",
       "      <th>REVIEW_TEXT</th>\n",
       "      <th>COUNTRY</th>\n",
       "      <th>LANGUAGE</th>\n",
       "    </tr>\n",
       "  </thead>\n",
       "  <tbody>\n",
       "    <tr>\n",
       "      <th>0</th>\n",
       "      <td>3129911</td>\n",
       "      <td>2022-08-17</td>\n",
       "      <td>True</td>\n",
       "      <td>1</td>\n",
       "      <td>This has NO flavor</td>\n",
       "      <td>This item has no flavor, several people have tried it in my house and all agree it is flavorless.  It of course can NOT be returned so I just waisted $15.  Don't waste your money on this garbage.</td>\n",
       "      <td>United States</td>\n",
       "      <td>en</td>\n",
       "    </tr>\n",
       "    <tr>\n",
       "      <th>1</th>\n",
       "      <td>2702184</td>\n",
       "      <td>2022-06-07</td>\n",
       "      <td>True</td>\n",
       "      <td>1</td>\n",
       "      <td>Different formula</td>\n",
       "      <td>I have used this brand of sunscreen for about 6 years or so. I've never had any problems until this past month when I purchased a new bottle. The new formula doesn't use nonnano zinc as the previous version did. My child and I have been very badly sunburned twice now. It has to be because of the new formula. I'm very upset because I have allergies and sensitive skin. This was the only brand that has ever worked for me. Thinkbaby should be ashamed for not stating the change in ingredients!</td>\n",
       "      <td>United States</td>\n",
       "      <td>en</td>\n",
       "    </tr>\n",
       "    <tr>\n",
       "      <th>2</th>\n",
       "      <td>760128</td>\n",
       "      <td>2014-06-03</td>\n",
       "      <td>True</td>\n",
       "      <td>5</td>\n",
       "      <td>Vitex!!!</td>\n",
       "      <td>Have been using these for at least 20 months and it was the only product that made a difference in what I would call \"personal summers\" :)  Won't use anything else.</td>\n",
       "      <td>United States</td>\n",
       "      <td>en</td>\n",
       "    </tr>\n",
       "    <tr>\n",
       "      <th>3</th>\n",
       "      <td>760140</td>\n",
       "      <td>2013-11-24</td>\n",
       "      <td>True</td>\n",
       "      <td>5</td>\n",
       "      <td>Stopping hair loss</td>\n",
       "      <td>Bought this to help fight hair loss along with dong quai, fo-ti; hair, nail, and skin vitamin by gaia and ginseng.  My hair started growing back within a month, stopped breaking within a week's time.</td>\n",
       "      <td>United States</td>\n",
       "      <td>en</td>\n",
       "    </tr>\n",
       "    <tr>\n",
       "      <th>4</th>\n",
       "      <td>760132</td>\n",
       "      <td>2014-04-10</td>\n",
       "      <td>True</td>\n",
       "      <td>5</td>\n",
       "      <td>coming off of birth control</td>\n",
       "      <td>this company is one of the best most honest i've come across. what a wonderfull product , this is a life saver when coming off hormonol birth control</td>\n",
       "      <td>United States</td>\n",
       "      <td>en</td>\n",
       "    </tr>\n",
       "  </tbody>\n",
       "</table>\n",
       "</div>"
      ],
      "text/plain": [
       "        ID REVIEW_DATE  IS_VERIFIED  RATING                 REVIEW_TITLE  \\\n",
       "0  3129911  2022-08-17         True       1           This has NO flavor   \n",
       "1  2702184  2022-06-07         True       1            Different formula   \n",
       "2   760128  2014-06-03         True       5                     Vitex!!!   \n",
       "3   760140  2013-11-24         True       5           Stopping hair loss   \n",
       "4   760132  2014-04-10         True       5  coming off of birth control   \n",
       "\n",
       "                                                                                                                                                                                                                                                                                                                                                                                                                                                                                                     REVIEW_TEXT  \\\n",
       "0                                                                                                                                                                                                                                                                                                            This item has no flavor, several people have tried it in my house and all agree it is flavorless.  It of course can NOT be returned so I just waisted $15.  Don't waste your money on this garbage.   \n",
       "1  I have used this brand of sunscreen for about 6 years or so. I've never had any problems until this past month when I purchased a new bottle. The new formula doesn't use nonnano zinc as the previous version did. My child and I have been very badly sunburned twice now. It has to be because of the new formula. I'm very upset because I have allergies and sensitive skin. This was the only brand that has ever worked for me. Thinkbaby should be ashamed for not stating the change in ingredients!   \n",
       "2                                                                                                                                                                                                                                                                                                                                           Have been using these for at least 20 months and it was the only product that made a difference in what I would call \"personal summers\" :)  Won't use anything else.   \n",
       "3                                                                                                                                                                                                                                                                                                        Bought this to help fight hair loss along with dong quai, fo-ti; hair, nail, and skin vitamin by gaia and ginseng.  My hair started growing back within a month, stopped breaking within a week's time.   \n",
       "4                                                                                                                                                                                                                                                                                                                                                          this company is one of the best most honest i've come across. what a wonderfull product , this is a life saver when coming off hormonol birth control   \n",
       "\n",
       "         COUNTRY LANGUAGE  \n",
       "0  United States       en  \n",
       "1  United States       en  \n",
       "2  United States       en  \n",
       "3  United States       en  \n",
       "4  United States       en  "
      ]
     },
     "execution_count": 18,
     "metadata": {},
     "output_type": "execute_result"
    }
   ],
   "source": [
    "reviews.head()"
   ]
  },
  {
   "cell_type": "markdown",
   "metadata": {},
   "source": [
    "## Visualizations p2"
   ]
  },
  {
   "cell_type": "code",
   "execution_count": 19,
   "metadata": {},
   "outputs": [
    {
     "data": {
      "text/plain": [
       "Text(0.5, 1.0, 'Number of words by review histogram')"
      ]
     },
     "execution_count": 19,
     "metadata": {},
     "output_type": "execute_result"
    },
    {
     "data": {
      "image/png": "[encoded data removed]",
      "text/plain": [
       "<Figure size 2500x1000 with 1 Axes>"
      ]
     },
     "metadata": {},
     "output_type": "display_data"
    }
   ],
   "source": [
    "plt.style.use('fivethirtyeight')\n",
    "fig, ax = plt.subplots(figsize = (25, 10))\n",
    "\n",
    "sns.histplot(data=english_reviews, x='word_count', hue='RATING', multiple='dodge', legend='RATING', kde = True, bins = 50)\n",
    "\n",
    "plt.xlabel('Word count per review')\n",
    "plt.ylabel('Count')\n",
    "plt.title('Number of words by review histogram')"
   ]
  },
  {
   "cell_type": "code",
   "execution_count": 20,
   "metadata": {},
   "outputs": [
    {
     "name": "stderr",
     "output_type": "stream",
     "text": [
      "/var/folders/lr/994tkpld58q9sbf0jsds90h80000gn/T/ipykernel_6500/3030392025.py:7: MatplotlibDeprecationWarning: The 'labels' parameter of boxplot() has been renamed 'tick_labels' since Matplotlib 3.9; support for the old name will be dropped in 3.11.\n",
      "  bp = plt.boxplot(data, labels = english_reviews['RATING'].unique(), patch_artist=True)\n"
     ]
    },
    {
     "data": {
      "text/plain": [
       "Text(0, 0.5, 'Word count')"
      ]
     },
     "execution_count": 20,
     "metadata": {},
     "output_type": "execute_result"
    },
    {
     "data": {
      "image/png": "[encoded data removed]",
      "text/plain": [
       "<Figure size 2500x1000 with 1 Axes>"
      ]
     },
     "metadata": {},
     "output_type": "display_data"
    }
   ],
   "source": [
    "plt.style.use('fivethirtyeight')\n",
    "fig, ax = plt.subplots(figsize = (25, 10))\n",
    "\n",
    "wc_group = english_reviews.groupby('RATING')['word_count'].apply(list)\n",
    "data = [wc_group[cat] for cat in english_reviews['RATING'].unique()]\n",
    "\n",
    "bp = plt.boxplot(data, labels = english_reviews['RATING'].unique(), patch_artist=True)\n",
    "\n",
    "colors = ['blue', 'black', 'green', 'yellow', 'purple']\n",
    "for patch, color in zip(bp['boxes'], colors):\n",
    "    patch.set_facecolor(color)\n",
    "\n",
    "plt.title('Word count boxplot')\n",
    "plt.xlabel('Review score')\n",
    "plt.ylabel('Word count')"
   ]
  },
  {
   "cell_type": "code",
   "execution_count": 21,
   "metadata": {},
   "outputs": [],
   "source": [
    "## graph of average score over time"
   ]
  },
  {
   "cell_type": "code",
   "execution_count": 22,
   "metadata": {},
   "outputs": [
    {
     "data": {
      "text/plain": [
       "4645    made me nervous and sick to my stomach, Iwould not recommend\n",
       "Name: REVIEW_TEXT, dtype: object"
      ]
     },
     "execution_count": 22,
     "metadata": {},
     "output_type": "execute_result"
    }
   ],
   "source": [
    "pd.set_option('display.max_colwidth', None)\n",
    "english_reviews['REVIEW_TEXT'].sample(1, random_state = 14)"
   ]
  },
  {
   "cell_type": "code",
   "execution_count": 23,
   "metadata": {},
   "outputs": [],
   "source": [
    "# english_reviews_mini = english_reviews[:4800]"
   ]
  },
  {
   "cell_type": "markdown",
   "metadata": {},
   "source": [
    "# Count Vectorize"
   ]
  },
  {
   "cell_type": "code",
   "execution_count": 24,
   "metadata": {},
   "outputs": [],
   "source": [
    "def remove_punctuation(text):\n",
    "    final_text = []\n",
    "    for row in text:\n",
    "        clean_row = \"\".join(u for u in row if u not in ('?', '.', ';', ':', '!', '\"', \"'\", '(', ')', '[', ']', '/', ',', '-', '*'))\n",
    "        final_text.append(clean_row.lower())\n",
    "    \n",
    "    return final_text"
   ]
  },
  {
   "cell_type": "code",
   "execution_count": 25,
   "metadata": {},
   "outputs": [],
   "source": [
    "token = RegexpTokenizer(f'[a-zA-Z0-9]+')"
   ]
  },
  {
   "cell_type": "code",
   "execution_count": 26,
   "metadata": {},
   "outputs": [
    {
     "name": "stderr",
     "output_type": "stream",
     "text": [
      "/var/folders/lr/994tkpld58q9sbf0jsds90h80000gn/T/ipykernel_6500/2641748750.py:1: SettingWithCopyWarning: \n",
      "A value is trying to be set on a copy of a slice from a DataFrame.\n",
      "Try using .loc[row_indexer,col_indexer] = value instead\n",
      "\n",
      "See the caveats in the documentation: https://pandas.pydata.org/pandas-docs/stable/user_guide/indexing.html#returning-a-view-versus-a-copy\n",
      "  english_reviews['REVIEW_TEXT'] = remove_punctuation(english_reviews['REVIEW_TEXT'])\n"
     ]
    }
   ],
   "source": [
    "english_reviews['REVIEW_TEXT'] = remove_punctuation(english_reviews['REVIEW_TEXT'])"
   ]
  },
  {
   "cell_type": "code",
   "execution_count": 27,
   "metadata": {},
   "outputs": [],
   "source": [
    "cv = CountVectorizer(stop_words = 'english', ngram_range = (1,2), tokenizer = token.tokenize)"
   ]
  },
  {
   "cell_type": "code",
   "execution_count": 28,
   "metadata": {},
   "outputs": [
    {
     "name": "stderr",
     "output_type": "stream",
     "text": [
      "/Users/cman/Desktop/code/customer_reviews/.venv/lib/python3.12/site-packages/sklearn/feature_extraction/text.py:521: UserWarning: The parameter 'token_pattern' will not be used since 'tokenizer' is not None'\n",
      "  warnings.warn(\n"
     ]
    }
   ],
   "source": [
    "text_counts = cv.fit_transform(english_reviews['REVIEW_TEXT'])"
   ]
  },
  {
   "cell_type": "markdown",
   "metadata": {},
   "source": [
    "# Train Test Split P2"
   ]
  },
  {
   "cell_type": "code",
   "execution_count": 29,
   "metadata": {},
   "outputs": [],
   "source": [
    "X_train, X_test, Y_train, Y_test = train_test_split(text_counts, english_reviews['RATING'], test_size = 0.2, random_state = 42, stratify=english_reviews['RATING'])"
   ]
  },
  {
   "cell_type": "markdown",
   "metadata": {},
   "source": [
    "# Training the MNB model "
   ]
  },
  {
   "cell_type": "code",
   "execution_count": 30,
   "metadata": {},
   "outputs": [
    {
     "data": {
      "text/html": [
       "<style>#sk-container-id-1 {\n",
       "  /* Definition of color scheme common for light and dark mode */\n",
       "  --sklearn-color-text: black;\n",
       "  --sklearn-color-line: gray;\n",
       "  /* Definition of color scheme for unfitted estimators */\n",
       "  --sklearn-color-unfitted-level-0: #fff5e6;\n",
       "  --sklearn-color-unfitted-level-1: #f6e4d2;\n",
       "  --sklearn-color-unfitted-level-2: #ffe0b3;\n",
       "  --sklearn-color-unfitted-level-3: chocolate;\n",
       "  /* Definition of color scheme for fitted estimators */\n",
       "  --sklearn-color-fitted-level-0: #f0f8ff;\n",
       "  --sklearn-color-fitted-level-1: #d4ebff;\n",
       "  --sklearn-color-fitted-level-2: #b3dbfd;\n",
       "  --sklearn-color-fitted-level-3: cornflowerblue;\n",
       "\n",
       "  /* Specific color for light theme */\n",
       "  --sklearn-color-text-on-default-background: var(--sg-text-color, var(--theme-code-foreground, var(--jp-content-font-color1, black)));\n",
       "  --sklearn-color-background: var(--sg-background-color, var(--theme-background, var(--jp-layout-color0, white)));\n",
       "  --sklearn-color-border-box: var(--sg-text-color, var(--theme-code-foreground, var(--jp-content-font-color1, black)));\n",
       "  --sklearn-color-icon: #696969;\n",
       "\n",
       "  @media (prefers-color-scheme: dark) {\n",
       "    /* Redefinition of color scheme for dark theme */\n",
       "    --sklearn-color-text-on-default-background: var(--sg-text-color, var(--theme-code-foreground, var(--jp-content-font-color1, white)));\n",
       "    --sklearn-color-background: var(--sg-background-color, var(--theme-background, var(--jp-layout-color0, #111)));\n",
       "    --sklearn-color-border-box: var(--sg-text-color, var(--theme-code-foreground, var(--jp-content-font-color1, white)));\n",
       "    --sklearn-color-icon: #878787;\n",
       "  }\n",
       "}\n",
       "\n",
       "#sk-container-id-1 {\n",
       "  color: var(--sklearn-color-text);\n",
       "}\n",
       "\n",
       "#sk-container-id-1 pre {\n",
       "  padding: 0;\n",
       "}\n",
       "\n",
       "#sk-container-id-1 input.sk-hidden--visually {\n",
       "  border: 0;\n",
       "  clip: rect(1px 1px 1px 1px);\n",
       "  clip: rect(1px, 1px, 1px, 1px);\n",
       "  height: 1px;\n",
       "  margin: -1px;\n",
       "  overflow: hidden;\n",
       "  padding: 0;\n",
       "  position: absolute;\n",
       "  width: 1px;\n",
       "}\n",
       "\n",
       "#sk-container-id-1 div.sk-dashed-wrapped {\n",
       "  border: 1px dashed var(--sklearn-color-line);\n",
       "  margin: 0 0.4em 0.5em 0.4em;\n",
       "  box-sizing: border-box;\n",
       "  padding-bottom: 0.4em;\n",
       "  background-color: var(--sklearn-color-background);\n",
       "}\n",
       "\n",
       "#sk-container-id-1 div.sk-container {\n",
       "  /* jupyter's `normalize.less` sets `[hidden] { display: none; }`\n",
       "     but bootstrap.min.css set `[hidden] { display: none !important; }`\n",
       "     so we also need the `!important` here to be able to override the\n",
       "     default hidden behavior on the sphinx rendered scikit-learn.org.\n",
       "     See: https://github.com/scikit-learn/scikit-learn/issues/21755 */\n",
       "  display: inline-block !important;\n",
       "  position: relative;\n",
       "}\n",
       "\n",
       "#sk-container-id-1 div.sk-text-repr-fallback {\n",
       "  display: none;\n",
       "}\n",
       "\n",
       "div.sk-parallel-item,\n",
       "div.sk-serial,\n",
       "div.sk-item {\n",
       "  /* draw centered vertical line to link estimators */\n",
       "  background-image: linear-gradient(var(--sklearn-color-text-on-default-background), var(--sklearn-color-text-on-default-background));\n",
       "  background-size: 2px 100%;\n",
       "  background-repeat: no-repeat;\n",
       "  background-position: center center;\n",
       "}\n",
       "\n",
       "/* Parallel-specific style estimator block */\n",
       "\n",
       "#sk-container-id-1 div.sk-parallel-item::after {\n",
       "  content: \"\";\n",
       "  width: 100%;\n",
       "  border-bottom: 2px solid var(--sklearn-color-text-on-default-background);\n",
       "  flex-grow: 1;\n",
       "}\n",
       "\n",
       "#sk-container-id-1 div.sk-parallel {\n",
       "  display: flex;\n",
       "  align-items: stretch;\n",
       "  justify-content: center;\n",
       "  background-color: var(--sklearn-color-background);\n",
       "  position: relative;\n",
       "}\n",
       "\n",
       "#sk-container-id-1 div.sk-parallel-item {\n",
       "  display: flex;\n",
       "  flex-direction: column;\n",
       "}\n",
       "\n",
       "#sk-container-id-1 div.sk-parallel-item:first-child::after {\n",
       "  align-self: flex-end;\n",
       "  width: 50%;\n",
       "}\n",
       "\n",
       "#sk-container-id-1 div.sk-parallel-item:last-child::after {\n",
       "  align-self: flex-start;\n",
       "  width: 50%;\n",
       "}\n",
       "\n",
       "#sk-container-id-1 div.sk-parallel-item:only-child::after {\n",
       "  width: 0;\n",
       "}\n",
       "\n",
       "/* Serial-specific style estimator block */\n",
       "\n",
       "#sk-container-id-1 div.sk-serial {\n",
       "  display: flex;\n",
       "  flex-direction: column;\n",
       "  align-items: center;\n",
       "  background-color: var(--sklearn-color-background);\n",
       "  padding-right: 1em;\n",
       "  padding-left: 1em;\n",
       "}\n",
       "\n",
       "\n",
       "/* Toggleable style: style used for estimator/Pipeline/ColumnTransformer box that is\n",
       "clickable and can be expanded/collapsed.\n",
       "- Pipeline and ColumnTransformer use this feature and define the default style\n",
       "- Estimators will overwrite some part of the style using the `sk-estimator` class\n",
       "*/\n",
       "\n",
       "/* Pipeline and ColumnTransformer style (default) */\n",
       "\n",
       "#sk-container-id-1 div.sk-toggleable {\n",
       "  /* Default theme specific background. It is overwritten whether we have a\n",
       "  specific estimator or a Pipeline/ColumnTransformer */\n",
       "  background-color: var(--sklearn-color-background);\n",
       "}\n",
       "\n",
       "/* Toggleable label */\n",
       "#sk-container-id-1 label.sk-toggleable__label {\n",
       "  cursor: pointer;\n",
       "  display: block;\n",
       "  width: 100%;\n",
       "  margin-bottom: 0;\n",
       "  padding: 0.5em;\n",
       "  box-sizing: border-box;\n",
       "  text-align: center;\n",
       "}\n",
       "\n",
       "#sk-container-id-1 label.sk-toggleable__label-arrow:before {\n",
       "  /* Arrow on the left of the label */\n",
       "  content: \"▸\";\n",
       "  float: left;\n",
       "  margin-right: 0.25em;\n",
       "  color: var(--sklearn-color-icon);\n",
       "}\n",
       "\n",
       "#sk-container-id-1 label.sk-toggleable__label-arrow:hover:before {\n",
       "  color: var(--sklearn-color-text);\n",
       "}\n",
       "\n",
       "/* Toggleable content - dropdown */\n",
       "\n",
       "#sk-container-id-1 div.sk-toggleable__content {\n",
       "  max-height: 0;\n",
       "  max-width: 0;\n",
       "  overflow: hidden;\n",
       "  text-align: left;\n",
       "  /* unfitted */\n",
       "  background-color: var(--sklearn-color-unfitted-level-0);\n",
       "}\n",
       "\n",
       "#sk-container-id-1 div.sk-toggleable__content.fitted {\n",
       "  /* fitted */\n",
       "  background-color: var(--sklearn-color-fitted-level-0);\n",
       "}\n",
       "\n",
       "#sk-container-id-1 div.sk-toggleable__content pre {\n",
       "  margin: 0.2em;\n",
       "  border-radius: 0.25em;\n",
       "  color: var(--sklearn-color-text);\n",
       "  /* unfitted */\n",
       "  background-color: var(--sklearn-color-unfitted-level-0);\n",
       "}\n",
       "\n",
       "#sk-container-id-1 div.sk-toggleable__content.fitted pre {\n",
       "  /* unfitted */\n",
       "  background-color: var(--sklearn-color-fitted-level-0);\n",
       "}\n",
       "\n",
       "#sk-container-id-1 input.sk-toggleable__control:checked~div.sk-toggleable__content {\n",
       "  /* Expand drop-down */\n",
       "  max-height: 200px;\n",
       "  max-width: 100%;\n",
       "  overflow: auto;\n",
       "}\n",
       "\n",
       "#sk-container-id-1 input.sk-toggleable__control:checked~label.sk-toggleable__label-arrow:before {\n",
       "  content: \"▾\";\n",
       "}\n",
       "\n",
       "/* Pipeline/ColumnTransformer-specific style */\n",
       "\n",
       "#sk-container-id-1 div.sk-label input.sk-toggleable__control:checked~label.sk-toggleable__label {\n",
       "  color: var(--sklearn-color-text);\n",
       "  background-color: var(--sklearn-color-unfitted-level-2);\n",
       "}\n",
       "\n",
       "#sk-container-id-1 div.sk-label.fitted input.sk-toggleable__control:checked~label.sk-toggleable__label {\n",
       "  background-color: var(--sklearn-color-fitted-level-2);\n",
       "}\n",
       "\n",
       "/* Estimator-specific style */\n",
       "\n",
       "/* Colorize estimator box */\n",
       "#sk-container-id-1 div.sk-estimator input.sk-toggleable__control:checked~label.sk-toggleable__label {\n",
       "  /* unfitted */\n",
       "  background-color: var(--sklearn-color-unfitted-level-2);\n",
       "}\n",
       "\n",
       "#sk-container-id-1 div.sk-estimator.fitted input.sk-toggleable__control:checked~label.sk-toggleable__label {\n",
       "  /* fitted */\n",
       "  background-color: var(--sklearn-color-fitted-level-2);\n",
       "}\n",
       "\n",
       "#sk-container-id-1 div.sk-label label.sk-toggleable__label,\n",
       "#sk-container-id-1 div.sk-label label {\n",
       "  /* The background is the default theme color */\n",
       "  color: var(--sklearn-color-text-on-default-background);\n",
       "}\n",
       "\n",
       "/* On hover, darken the color of the background */\n",
       "#sk-container-id-1 div.sk-label:hover label.sk-toggleable__label {\n",
       "  color: var(--sklearn-color-text);\n",
       "  background-color: var(--sklearn-color-unfitted-level-2);\n",
       "}\n",
       "\n",
       "/* Label box, darken color on hover, fitted */\n",
       "#sk-container-id-1 div.sk-label.fitted:hover label.sk-toggleable__label.fitted {\n",
       "  color: var(--sklearn-color-text);\n",
       "  background-color: var(--sklearn-color-fitted-level-2);\n",
       "}\n",
       "\n",
       "/* Estimator label */\n",
       "\n",
       "#sk-container-id-1 div.sk-label label {\n",
       "  font-family: monospace;\n",
       "  font-weight: bold;\n",
       "  display: inline-block;\n",
       "  line-height: 1.2em;\n",
       "}\n",
       "\n",
       "#sk-container-id-1 div.sk-label-container {\n",
       "  text-align: center;\n",
       "}\n",
       "\n",
       "/* Estimator-specific */\n",
       "#sk-container-id-1 div.sk-estimator {\n",
       "  font-family: monospace;\n",
       "  border: 1px dotted var(--sklearn-color-border-box);\n",
       "  border-radius: 0.25em;\n",
       "  box-sizing: border-box;\n",
       "  margin-bottom: 0.5em;\n",
       "  /* unfitted */\n",
       "  background-color: var(--sklearn-color-unfitted-level-0);\n",
       "}\n",
       "\n",
       "#sk-container-id-1 div.sk-estimator.fitted {\n",
       "  /* fitted */\n",
       "  background-color: var(--sklearn-color-fitted-level-0);\n",
       "}\n",
       "\n",
       "/* on hover */\n",
       "#sk-container-id-1 div.sk-estimator:hover {\n",
       "  /* unfitted */\n",
       "  background-color: var(--sklearn-color-unfitted-level-2);\n",
       "}\n",
       "\n",
       "#sk-container-id-1 div.sk-estimator.fitted:hover {\n",
       "  /* fitted */\n",
       "  background-color: var(--sklearn-color-fitted-level-2);\n",
       "}\n",
       "\n",
       "/* Specification for estimator info (e.g. \"i\" and \"?\") */\n",
       "\n",
       "/* Common style for \"i\" and \"?\" */\n",
       "\n",
       ".sk-estimator-doc-link,\n",
       "a:link.sk-estimator-doc-link,\n",
       "a:visited.sk-estimator-doc-link {\n",
       "  float: right;\n",
       "  font-size: smaller;\n",
       "  line-height: 1em;\n",
       "  font-family: monospace;\n",
       "  background-color: var(--sklearn-color-background);\n",
       "  border-radius: 1em;\n",
       "  height: 1em;\n",
       "  width: 1em;\n",
       "  text-decoration: none !important;\n",
       "  margin-left: 1ex;\n",
       "  /* unfitted */\n",
       "  border: var(--sklearn-color-unfitted-level-1) 1pt solid;\n",
       "  color: var(--sklearn-color-unfitted-level-1);\n",
       "}\n",
       "\n",
       ".sk-estimator-doc-link.fitted,\n",
       "a:link.sk-estimator-doc-link.fitted,\n",
       "a:visited.sk-estimator-doc-link.fitted {\n",
       "  /* fitted */\n",
       "  border: var(--sklearn-color-fitted-level-1) 1pt solid;\n",
       "  color: var(--sklearn-color-fitted-level-1);\n",
       "}\n",
       "\n",
       "/* On hover */\n",
       "div.sk-estimator:hover .sk-estimator-doc-link:hover,\n",
       ".sk-estimator-doc-link:hover,\n",
       "div.sk-label-container:hover .sk-estimator-doc-link:hover,\n",
       ".sk-estimator-doc-link:hover {\n",
       "  /* unfitted */\n",
       "  background-color: var(--sklearn-color-unfitted-level-3);\n",
       "  color: var(--sklearn-color-background);\n",
       "  text-decoration: none;\n",
       "}\n",
       "\n",
       "div.sk-estimator.fitted:hover .sk-estimator-doc-link.fitted:hover,\n",
       ".sk-estimator-doc-link.fitted:hover,\n",
       "div.sk-label-container:hover .sk-estimator-doc-link.fitted:hover,\n",
       ".sk-estimator-doc-link.fitted:hover {\n",
       "  /* fitted */\n",
       "  background-color: var(--sklearn-color-fitted-level-3);\n",
       "  color: var(--sklearn-color-background);\n",
       "  text-decoration: none;\n",
       "}\n",
       "\n",
       "/* Span, style for the box shown on hovering the info icon */\n",
       ".sk-estimator-doc-link span {\n",
       "  display: none;\n",
       "  z-index: 9999;\n",
       "  position: relative;\n",
       "  font-weight: normal;\n",
       "  right: .2ex;\n",
       "  padding: .5ex;\n",
       "  margin: .5ex;\n",
       "  width: min-content;\n",
       "  min-width: 20ex;\n",
       "  max-width: 50ex;\n",
       "  color: var(--sklearn-color-text);\n",
       "  box-shadow: 2pt 2pt 4pt #999;\n",
       "  /* unfitted */\n",
       "  background: var(--sklearn-color-unfitted-level-0);\n",
       "  border: .5pt solid var(--sklearn-color-unfitted-level-3);\n",
       "}\n",
       "\n",
       ".sk-estimator-doc-link.fitted span {\n",
       "  /* fitted */\n",
       "  background: var(--sklearn-color-fitted-level-0);\n",
       "  border: var(--sklearn-color-fitted-level-3);\n",
       "}\n",
       "\n",
       ".sk-estimator-doc-link:hover span {\n",
       "  display: block;\n",
       "}\n",
       "\n",
       "/* \"?\"-specific style due to the `<a>` HTML tag */\n",
       "\n",
       "#sk-container-id-1 a.estimator_doc_link {\n",
       "  float: right;\n",
       "  font-size: 1rem;\n",
       "  line-height: 1em;\n",
       "  font-family: monospace;\n",
       "  background-color: var(--sklearn-color-background);\n",
       "  border-radius: 1rem;\n",
       "  height: 1rem;\n",
       "  width: 1rem;\n",
       "  text-decoration: none;\n",
       "  /* unfitted */\n",
       "  color: var(--sklearn-color-unfitted-level-1);\n",
       "  border: var(--sklearn-color-unfitted-level-1) 1pt solid;\n",
       "}\n",
       "\n",
       "#sk-container-id-1 a.estimator_doc_link.fitted {\n",
       "  /* fitted */\n",
       "  border: var(--sklearn-color-fitted-level-1) 1pt solid;\n",
       "  color: var(--sklearn-color-fitted-level-1);\n",
       "}\n",
       "\n",
       "/* On hover */\n",
       "#sk-container-id-1 a.estimator_doc_link:hover {\n",
       "  /* unfitted */\n",
       "  background-color: var(--sklearn-color-unfitted-level-3);\n",
       "  color: var(--sklearn-color-background);\n",
       "  text-decoration: none;\n",
       "}\n",
       "\n",
       "#sk-container-id-1 a.estimator_doc_link.fitted:hover {\n",
       "  /* fitted */\n",
       "  background-color: var(--sklearn-color-fitted-level-3);\n",
       "}\n",
       "</style><div id=\"sk-container-id-1\" class=\"sk-top-container\"><div class=\"sk-text-repr-fallback\"><pre>MultinomialNB()</pre><b>In a Jupyter environment, please rerun this cell to show the HTML representation or trust the notebook. <br />On GitHub, the HTML representation is unable to render, please try loading this page with nbviewer.org.</b></div><div class=\"sk-container\" hidden><div class=\"sk-item\"><div class=\"sk-estimator fitted sk-toggleable\"><input class=\"sk-toggleable__control sk-hidden--visually\" id=\"sk-estimator-id-1\" type=\"checkbox\" checked><label for=\"sk-estimator-id-1\" class=\"sk-toggleable__label fitted sk-toggleable__label-arrow fitted\">&nbsp;&nbsp;MultinomialNB<a class=\"sk-estimator-doc-link fitted\" rel=\"noreferrer\" target=\"_blank\" href=\"https://scikit-learn.org/1.5/modules/generated/sklearn.naive_bayes.MultinomialNB.html\">?<span>Documentation for MultinomialNB</span></a><span class=\"sk-estimator-doc-link fitted\">i<span>Fitted</span></span></label><div class=\"sk-toggleable__content fitted\"><pre>MultinomialNB()</pre></div> </div></div></div></div>"
      ],
      "text/plain": [
       "MultinomialNB()"
      ]
     },
     "execution_count": 30,
     "metadata": {},
     "output_type": "execute_result"
    }
   ],
   "source": [
    "MNB = MultinomialNB()\n",
    "MNB.fit(X_train, Y_train)"
   ]
  },
  {
   "cell_type": "code",
   "execution_count": 31,
   "metadata": {},
   "outputs": [],
   "source": [
    "predicted = MNB.predict(X_test)"
   ]
  },
  {
   "cell_type": "code",
   "execution_count": 32,
   "metadata": {},
   "outputs": [],
   "source": [
    "accuracy_score = accuracy_score(predicted, Y_test)"
   ]
  },
  {
   "cell_type": "code",
   "execution_count": 33,
   "metadata": {},
   "outputs": [
    {
     "name": "stdout",
     "output_type": "stream",
     "text": [
      "The accuracy score of the Multimodial Naive Bayes model is: 0.61\n"
     ]
    }
   ],
   "source": [
    "print(f'The accuracy score of the Multimodial Naive Bayes model is: {round(accuracy_score, 2)}')"
   ]
  },
  {
   "cell_type": "code",
   "execution_count": 34,
   "metadata": {},
   "outputs": [
    {
     "data": {
      "text/plain": [
       "array([1, 5, 5, 5, 5])"
      ]
     },
     "execution_count": 34,
     "metadata": {},
     "output_type": "execute_result"
    }
   ],
   "source": [
    "predicted[:5]"
   ]
  },
  {
   "cell_type": "code",
   "execution_count": 35,
   "metadata": {},
   "outputs": [
    {
     "data": {
      "text/plain": [
       "6288    1\n",
       "7414    5\n",
       "5705    2\n",
       "6044    5\n",
       "4259    5\n",
       "Name: RATING, dtype: int64"
      ]
     },
     "execution_count": 35,
     "metadata": {},
     "output_type": "execute_result"
    }
   ],
   "source": [
    "Y_test[:5]"
   ]
  },
  {
   "cell_type": "code",
   "execution_count": 36,
   "metadata": {},
   "outputs": [
    {
     "data": {
      "image/png": "[encoded data removed]",
      "text/plain": [
       "<Figure size 640x480 with 2 Axes>"
      ]
     },
     "metadata": {},
     "output_type": "display_data"
    }
   ],
   "source": [
    "cm = confusion_matrix(Y_test, predicted)\n",
    "\n",
    "disp = ConfusionMatrixDisplay(confusion_matrix=cm, display_labels=np.unique(Y_test))\n",
    "disp.plot(cmap=plt.cm.Blues)\n",
    "plt.title('Confusion Matrix')\n",
    "plt.show()"
   ]
  },
  {
   "cell_type": "markdown",
   "metadata": {},
   "source": [
    "## Text blob"
   ]
  },
  {
   "cell_type": "markdown",
   "metadata": {},
   "source": [
    "Polartiy determines the sentiment of the text. -1 = highly negative review and 1 denotes a highly positive sentiment.\n",
    "\n",
    "Subjectivity determines whether a text input is fact vs personal information. 0 denotes a fact and 1 denotes a personal opinion."
   ]
  },
  {
   "cell_type": "code",
   "execution_count": 37,
   "metadata": {},
   "outputs": [
    {
     "data": {
      "text/plain": [
       "'almost 2 months later abused daily and the 11 month old 90+ lb rottweiler puppy still hasnt made a dent in the kong tire no longer pleasantly surprised  amazingly surprisedi have a 10 month old rottweiler puppy that is a strong chewer he has destroyed 2 of the 10 inch pet store tire chews ive always had great experiences with kong products so i ordered this i picked the biggest one they had knowing that kong isnt afraid to make big dog toyswhen i received the tire and saw it was really no bigger than a good doughnut i was pssed to say the least being mail order i figured returning it would be more trouble than it was worth so i gave it to himhe loves it and can not destroy it i guess its big enough that it entices him but not big enough for him to get to its weak areas and destroy it i have not had a tire toy last this long at all let alone remain in like new conditionthanks kong from us and our little boy'"
      ]
     },
     "execution_count": 37,
     "metadata": {},
     "output_type": "execute_result"
    }
   ],
   "source": [
    "english_reviews['REVIEW_TEXT'].iloc[284]"
   ]
  },
  {
   "cell_type": "code",
   "execution_count": 38,
   "metadata": {},
   "outputs": [],
   "source": [
    "p1 = TextBlob(english_reviews['REVIEW_TEXT'].iloc[284]).sentiment.polarity\n",
    "s1 = TextBlob(english_reviews['REVIEW_TEXT'].iloc[284]).sentiment.subjectivity"
   ]
  },
  {
   "cell_type": "code",
   "execution_count": 39,
   "metadata": {},
   "outputs": [
    {
     "name": "stdout",
     "output_type": "stream",
     "text": [
      "The polarity of the test token is : 0.07 and the subjectivity of the test token is: 0.38\n"
     ]
    }
   ],
   "source": [
    "print(f'The polarity of the test token is : {round(p1, 2)} and the subjectivity of the test token is: {round(s1, 2)}')"
   ]
  },
  {
   "cell_type": "code",
   "execution_count": 40,
   "metadata": {},
   "outputs": [
    {
     "name": "stdout",
     "output_type": "stream",
     "text": [
      "The actual rating was: 5\n"
     ]
    }
   ],
   "source": [
    "print(f'The actual rating was: {english_reviews['RATING'].iloc[284]}')"
   ]
  },
  {
   "cell_type": "code",
   "execution_count": 43,
   "metadata": {},
   "outputs": [],
   "source": [
    "def calculate_polarity(text):\n",
    "    blob = TextBlob(text)\n",
    "    return blob.sentiment.polarity\n",
    "\n",
    "def calculate_subjectivity(text):\n",
    "    blob = TextBlob(text)\n",
    "    return blob.sentiment.subjectivity"
   ]
  },
  {
   "cell_type": "code",
   "execution_count": 44,
   "metadata": {},
   "outputs": [
    {
     "name": "stderr",
     "output_type": "stream",
     "text": [
      "/var/folders/lr/994tkpld58q9sbf0jsds90h80000gn/T/ipykernel_6500/1677028977.py:1: SettingWithCopyWarning: \n",
      "A value is trying to be set on a copy of a slice from a DataFrame.\n",
      "Try using .loc[row_indexer,col_indexer] = value instead\n",
      "\n",
      "See the caveats in the documentation: https://pandas.pydata.org/pandas-docs/stable/user_guide/indexing.html#returning-a-view-versus-a-copy\n",
      "  english_reviews['TEXT_BLOB_POLARITY_RAW'] = english_reviews['REVIEW_TEXT'].apply(calculate_polarity)\n",
      "/var/folders/lr/994tkpld58q9sbf0jsds90h80000gn/T/ipykernel_6500/1677028977.py:2: SettingWithCopyWarning: \n",
      "A value is trying to be set on a copy of a slice from a DataFrame.\n",
      "Try using .loc[row_indexer,col_indexer] = value instead\n",
      "\n",
      "See the caveats in the documentation: https://pandas.pydata.org/pandas-docs/stable/user_guide/indexing.html#returning-a-view-versus-a-copy\n",
      "  english_reviews['TEXT_BLOB_SUBJECTIVITY_RAW'] = english_reviews['REVIEW_TEXT'].apply(calculate_subjectivity)\n"
     ]
    }
   ],
   "source": [
    "english_reviews['TEXT_BLOB_POLARITY_RAW'] = english_reviews['REVIEW_TEXT'].apply(calculate_polarity)\n",
    "english_reviews['TEXT_BLOB_SUBJECTIVITY_RAW'] = english_reviews['REVIEW_TEXT'].apply(calculate_subjectivity)"
   ]
  },
  {
   "cell_type": "code",
   "execution_count": 45,
   "metadata": {},
   "outputs": [
    {
     "data": {
      "text/html": [
       "<div>\n",
       "<style scoped>\n",
       "    .dataframe tbody tr th:only-of-type {\n",
       "        vertical-align: middle;\n",
       "    }\n",
       "\n",
       "    .dataframe tbody tr th {\n",
       "        vertical-align: top;\n",
       "    }\n",
       "\n",
       "    .dataframe thead th {\n",
       "        text-align: right;\n",
       "    }\n",
       "</style>\n",
       "<table border=\"1\" class=\"dataframe\">\n",
       "  <thead>\n",
       "    <tr style=\"text-align: right;\">\n",
       "      <th></th>\n",
       "      <th>ID</th>\n",
       "      <th>REVIEW_DATE</th>\n",
       "      <th>IS_VERIFIED</th>\n",
       "      <th>RATING</th>\n",
       "      <th>REVIEW_TITLE</th>\n",
       "      <th>REVIEW_TEXT</th>\n",
       "      <th>COUNTRY</th>\n",
       "      <th>LANGUAGE</th>\n",
       "      <th>word_count</th>\n",
       "      <th>TEXT_BLOB_POLARITY_RAW</th>\n",
       "      <th>TEXT_BLOB_SUBJECTIVITY_RAW</th>\n",
       "    </tr>\n",
       "  </thead>\n",
       "  <tbody>\n",
       "    <tr>\n",
       "      <th>0</th>\n",
       "      <td>3129911</td>\n",
       "      <td>2022-08-17</td>\n",
       "      <td>True</td>\n",
       "      <td>1</td>\n",
       "      <td>This has NO flavor</td>\n",
       "      <td>this item has no flavor several people have tried it in my house and all agree it is flavorless  it of course can not be returned so i just waisted $15  dont waste your money on this garbage</td>\n",
       "      <td>United States</td>\n",
       "      <td>en</td>\n",
       "      <td>38</td>\n",
       "      <td>-0.10000</td>\n",
       "      <td>0.000000</td>\n",
       "    </tr>\n",
       "    <tr>\n",
       "      <th>1</th>\n",
       "      <td>2702184</td>\n",
       "      <td>2022-06-07</td>\n",
       "      <td>True</td>\n",
       "      <td>1</td>\n",
       "      <td>Different formula</td>\n",
       "      <td>i have used this brand of sunscreen for about 6 years or so ive never had any problems until this past month when i purchased a new bottle the new formula doesnt use nonnano zinc as the previous version did my child and i have been very badly sunburned twice now it has to be because of the new formula im very upset because i have allergies and sensitive skin this was the only brand that has ever worked for me thinkbaby should be ashamed for not stating the change in ingredients</td>\n",
       "      <td>United States</td>\n",
       "      <td>en</td>\n",
       "      <td>92</td>\n",
       "      <td>-0.06862</td>\n",
       "      <td>0.538552</td>\n",
       "    </tr>\n",
       "    <tr>\n",
       "      <th>2</th>\n",
       "      <td>760128</td>\n",
       "      <td>2014-06-03</td>\n",
       "      <td>True</td>\n",
       "      <td>5</td>\n",
       "      <td>Vitex!!!</td>\n",
       "      <td>have been using these for at least 20 months and it was the only product that made a difference in what i would call personal summers   wont use anything else</td>\n",
       "      <td>United States</td>\n",
       "      <td>en</td>\n",
       "      <td>31</td>\n",
       "      <td>-0.10000</td>\n",
       "      <td>0.566667</td>\n",
       "    </tr>\n",
       "    <tr>\n",
       "      <th>3</th>\n",
       "      <td>760140</td>\n",
       "      <td>2013-11-24</td>\n",
       "      <td>True</td>\n",
       "      <td>5</td>\n",
       "      <td>Stopping hair loss</td>\n",
       "      <td>bought this to help fight hair loss along with dong quai foti hair nail and skin vitamin by gaia and ginseng  my hair started growing back within a month stopped breaking within a weeks time</td>\n",
       "      <td>United States</td>\n",
       "      <td>en</td>\n",
       "      <td>35</td>\n",
       "      <td>0.00000</td>\n",
       "      <td>0.000000</td>\n",
       "    </tr>\n",
       "    <tr>\n",
       "      <th>4</th>\n",
       "      <td>760132</td>\n",
       "      <td>2014-04-10</td>\n",
       "      <td>True</td>\n",
       "      <td>5</td>\n",
       "      <td>coming off of birth control</td>\n",
       "      <td>this company is one of the best most honest ive come across what a wonderfull product  this is a life saver when coming off hormonol birth control</td>\n",
       "      <td>United States</td>\n",
       "      <td>en</td>\n",
       "      <td>28</td>\n",
       "      <td>0.70000</td>\n",
       "      <td>0.566667</td>\n",
       "    </tr>\n",
       "  </tbody>\n",
       "</table>\n",
       "</div>"
      ],
      "text/plain": [
       "        ID REVIEW_DATE  IS_VERIFIED  RATING                 REVIEW_TITLE  \\\n",
       "0  3129911  2022-08-17         True       1           This has NO flavor   \n",
       "1  2702184  2022-06-07         True       1            Different formula   \n",
       "2   760128  2014-06-03         True       5                     Vitex!!!   \n",
       "3   760140  2013-11-24         True       5           Stopping hair loss   \n",
       "4   760132  2014-04-10         True       5  coming off of birth control   \n",
       "\n",
       "                                                                                                                                                                                                                                                                                                                                                                                                                                                                                          REVIEW_TEXT  \\\n",
       "0                                                                                                                                                                                                                                                                                                      this item has no flavor several people have tried it in my house and all agree it is flavorless  it of course can not be returned so i just waisted $15  dont waste your money on this garbage   \n",
       "1  i have used this brand of sunscreen for about 6 years or so ive never had any problems until this past month when i purchased a new bottle the new formula doesnt use nonnano zinc as the previous version did my child and i have been very badly sunburned twice now it has to be because of the new formula im very upset because i have allergies and sensitive skin this was the only brand that has ever worked for me thinkbaby should be ashamed for not stating the change in ingredients   \n",
       "2                                                                                                                                                                                                                                                                                                                                      have been using these for at least 20 months and it was the only product that made a difference in what i would call personal summers   wont use anything else   \n",
       "3                                                                                                                                                                                                                                                                                                      bought this to help fight hair loss along with dong quai foti hair nail and skin vitamin by gaia and ginseng  my hair started growing back within a month stopped breaking within a weeks time   \n",
       "4                                                                                                                                                                                                                                                                                                                                                  this company is one of the best most honest ive come across what a wonderfull product  this is a life saver when coming off hormonol birth control   \n",
       "\n",
       "         COUNTRY LANGUAGE  word_count  TEXT_BLOB_POLARITY_RAW  \\\n",
       "0  United States       en          38                -0.10000   \n",
       "1  United States       en          92                -0.06862   \n",
       "2  United States       en          31                -0.10000   \n",
       "3  United States       en          35                 0.00000   \n",
       "4  United States       en          28                 0.70000   \n",
       "\n",
       "   TEXT_BLOB_SUBJECTIVITY_RAW  \n",
       "0                    0.000000  \n",
       "1                    0.538552  \n",
       "2                    0.566667  \n",
       "3                    0.000000  \n",
       "4                    0.566667  "
      ]
     },
     "execution_count": 45,
     "metadata": {},
     "output_type": "execute_result"
    }
   ],
   "source": [
    "english_reviews.head()"
   ]
  },
  {
   "cell_type": "code",
   "execution_count": 46,
   "metadata": {},
   "outputs": [],
   "source": [
    "def map_rating(value):\n",
    "    mapped_value = (value + 1) * 2.5 + 0.5\n",
    "    mapped_rating = round(mapped_value)\n",
    "    mapped_rating = max(1, min(5, mapped_rating))\n",
    "    return mapped_rating"
   ]
  },
  {
   "cell_type": "code",
   "execution_count": 47,
   "metadata": {},
   "outputs": [
    {
     "data": {
      "text/plain": [
       "3"
      ]
     },
     "execution_count": 47,
     "metadata": {},
     "output_type": "execute_result"
    }
   ],
   "source": [
    "english_reviews['TEXT_BLOB_POLARITY_MAPPED'] = english_reviews['TEXT_BLOB_POLARITY_RAW'].apply(map_rating)"
   ]
  },
  {
   "cell_type": "markdown",
   "metadata": {},
   "source": [
    "# VADER"
   ]
  },
  {
   "cell_type": "markdown",
   "metadata": {},
   "source": [
    "# Implementing TF-IDF"
   ]
  },
  {
   "cell_type": "code",
   "execution_count": null,
   "metadata": {},
   "outputs": [],
   "source": [
    "tfidf = TfidfVectorizer(ngram_range =(1,2), stop_words = 'english', max_features = 1000)\n",
    "features = tfidf.fit_transform(english_reviews_train_text)\n",
    "df_tfidf = pd.DataFrame(features.toarray(), columns = tfidf.get_feature_names_out())"
   ]
  },
  {
   "cell_type": "code",
   "execution_count": null,
   "metadata": {},
   "outputs": [],
   "source": [
    "# original review\n",
    "english_reviews_train.iloc[2]['REVIEW_TEXT']"
   ]
  },
  {
   "cell_type": "code",
   "execution_count": null,
   "metadata": {},
   "outputs": [],
   "source": [
    "df_tfidf_three  = df_tfidf.iloc[2]\n",
    "sorted_doc_three_scores = df_tfidf_three.sort_values(ascending=False)"
   ]
  },
  {
   "cell_type": "code",
   "execution_count": null,
   "metadata": {},
   "outputs": [],
   "source": [
    "sorted_doc_three_scores[:20]"
   ]
  },
  {
   "cell_type": "code",
   "execution_count": null,
   "metadata": {},
   "outputs": [],
   "source": [
    "plt.style.use('fivethirtyeight')\n",
    "fig, ax = plt.subplots(figsize = (25, 10))\n",
    "\n",
    "sorted_doc_three_scores[:20].plot(kind = 'bar')\n",
    "plt.title('TF-IDF score for review 3')\n",
    "plt.ylabel('TF-IDF score')\n",
    "plt.xlabel('Terms')"
   ]
  },
  {
   "cell_type": "markdown",
   "metadata": {},
   "source": [
    "# Unsupervised model"
   ]
  },
  {
   "cell_type": "code",
   "execution_count": null,
   "metadata": {},
   "outputs": [],
   "source": [
    "model_nmf = NMF( init = 'random', beta_loss = 'frobenius',  verbose = 1, random_state = 42).fit(df_tfidf)\n",
    "# max_iter = 100,\n",
    "# n_components = 5,"
   ]
  },
  {
   "cell_type": "code",
   "execution_count": null,
   "metadata": {},
   "outputs": [],
   "source": [
    "weights = model_nmf.transform(df_tfidf)\n",
    "pd.DataFrame(weights).head()"
   ]
  },
  {
   "cell_type": "code",
   "execution_count": null,
   "metadata": {},
   "outputs": [],
   "source": [
    "pred = np.argmax(weights, axis = 1)\n",
    "pred"
   ]
  },
  {
   "cell_type": "code",
   "execution_count": null,
   "metadata": {},
   "outputs": [],
   "source": [
    "# predictions are zero indexed, need to add one to match the y values\n",
    "pred_adjusted = pred + 1"
   ]
  },
  {
   "cell_type": "code",
   "execution_count": null,
   "metadata": {},
   "outputs": [],
   "source": [
    "def label_compare(y, yp):\n",
    "    '''Function that for all permutations of labels, retruns the best accuracy score and order'''\n",
    "    global best_ordering\n",
    "    unique_labels = np.unique(yp)\n",
    "    best_accuracy = 0.0\n",
    "\n",
    "    for order in permutations(unique_labels):\n",
    "        label_map = {unique_labels[i]: order[i] for i in range(len(unique_labels))}\n",
    "        reordered_yp = np.vectorize(label_map.get)(yp)\n",
    "\n",
    "        current_score = accuracy_score(y, reordered_yp)\n",
    "        if current_score > best_accuracy:\n",
    "            best_accuracy = current_score\n",
    "            best_ordering = order\n",
    "        \n",
    "    return best_accuracy"
   ]
  },
  {
   "cell_type": "code",
   "execution_count": null,
   "metadata": {},
   "outputs": [],
   "source": [
    "print(f'The best accuracy achieved with random hyperparameters for the NMF model is: {label_compare(y, pred_adjusted)}')"
   ]
  },
  {
   "cell_type": "code",
   "execution_count": null,
   "metadata": {},
   "outputs": [],
   "source": [
    "pred[:10]"
   ]
  },
  {
   "cell_type": "code",
   "execution_count": null,
   "metadata": {},
   "outputs": [],
   "source": [
    "y[:10]"
   ]
  },
  {
   "cell_type": "code",
   "execution_count": null,
   "metadata": {},
   "outputs": [],
   "source": [
    "labels = np.unique(pred_adjusted)\n",
    "label_map = dict(zip(labels, best_ordering))\n",
    "reorder_yp = np.array([label_map[lbl] for lbl in pred_adjusted])"
   ]
  },
  {
   "cell_type": "code",
   "execution_count": null,
   "metadata": {},
   "outputs": [],
   "source": [
    "labels"
   ]
  },
  {
   "cell_type": "code",
   "execution_count": null,
   "metadata": {},
   "outputs": [],
   "source": [
    "best_ordering"
   ]
  },
  {
   "cell_type": "code",
   "execution_count": null,
   "metadata": {},
   "outputs": [],
   "source": [
    "reorder_yp"
   ]
  },
  {
   "cell_type": "code",
   "execution_count": null,
   "metadata": {},
   "outputs": [],
   "source": [
    "label_names = english_reviews_train['RATING'].unique().tolist()\n",
    "l = pd.Index(label_names)\n",
    "cm = pd.crosstab(y, reorder_yp)\n",
    "# cm = pd.crosstab(l[y], l[reorder_yp])\n",
    "\n",
    "plt.figure(figsize=(10, 4))\n",
    "sns.heatmap(cm, annot=True, square=True, cmap='Reds', fmt='.0f', cbar=False)\n",
    "plt.title('NMF random model confusion matrix', fontsize = 12)\n",
    "plt.xlabel('Predicted', fontsize=12)\n",
    "plt.ylabel('Actual', fontsize=12)\n",
    "plt.xticks(rotation=20, fontsize=8)\n",
    "plt.yticks(fontsize=8)"
   ]
  },
  {
   "cell_type": "code",
   "execution_count": null,
   "metadata": {},
   "outputs": [],
   "source": [
    "def custom_scoring(estimator, X, y):\n",
    "    'Creating a scoring function to be used in our GridSearchCV'\n",
    "    W = estimator.transform(X)\n",
    "    predictions = np.argmax(W, axis=1)\n",
    "    return label_compare(y, predictions)"
   ]
  },
  {
   "cell_type": "code",
   "execution_count": null,
   "metadata": {},
   "outputs": [],
   "source": [
    "pipe = Pipeline([\n",
    "    ('tfidfvectorizer', TfidfVectorizer(ngram_range =(1,2), stop_words = 'english', max_features = 1000)),\n",
    "    ( 'nmf', NMF(n_components = 5, init = 'random', beta_loss = 'frobenius'))\n",
    "])\n",
    "\n",
    "params = [{\n",
    "    # 'tfidfvectorizer__ngram_range': [(1, 2)],\n",
    "    'tfidfvectorizer__min_df': [1, 2, 3],\n",
    "    'nmf__alpha_W': [0, .01, .02],\n",
    "    'nmf__alpha_H': [0, .01, .02]\n",
    "}]"
   ]
  },
  {
   "cell_type": "code",
   "execution_count": null,
   "metadata": {},
   "outputs": [],
   "source": [
    "grid = GridSearchCV(pipe, param_grid = params, scoring = custom_scoring, cv = 10)\n",
    "x = english_reviews_train['REVIEW_TEXT']\n",
    "y = english_reviews_train['RATING']\n",
    "grid.fit(x, y)"
   ]
  },
  {
   "cell_type": "code",
   "execution_count": null,
   "metadata": {},
   "outputs": [],
   "source": [
    "cv_results = pd.DataFrame(grid.cv_results_).sort_values(by='mean_test_score')\n",
    "pd.set_option('display.max_colwidth', None)\n",
    "cv_results[['mean_fit_time', 'params', 'mean_test_score', 'rank_test_score']].sort_values(by='rank_test_score').iloc[:10]"
   ]
  },
  {
   "cell_type": "code",
   "execution_count": null,
   "metadata": {},
   "outputs": [],
   "source": []
  }
 ],
 "metadata": {
  "kernelspec": {
   "display_name": ".venv",
   "language": "python",
   "name": "python3"
  },
  "language_info": {
   "codemirror_mode": {
    "name": "ipython",
    "version": 3
   },
   "file_extension": ".py",
   "mimetype": "text/x-python",
   "name": "python",
   "nbconvert_exporter": "python",
   "pygments_lexer": "ipython3",
   "version": "3.12.3"
  }
 },
 "nbformat": 4,
 "nbformat_minor": 2
}
